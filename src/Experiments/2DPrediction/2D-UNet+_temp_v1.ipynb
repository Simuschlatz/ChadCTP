{
 "cells": [
  {
   "cell_type": "code",
   "execution_count": 16,
   "metadata": {},
   "outputs": [
    {
     "name": "stdout",
     "output_type": "stream",
     "text": [
      "mps\n"
     ]
    }
   ],
   "source": [
    "import torch\n",
    "import torch.nn as nn\n",
    "import torch.nn.functional as F\n",
    "import torch.optim as optim\n",
    "from torch.utils.data import Dataset, DataLoader\n",
    "from torchmetrics.functional import structural_similarity_index_measure, peak_signal_noise_ratio\n",
    "import matplotlib.pyplot as plt\n",
    "import pandas as pd\n",
    "import numpy as np\n",
    "import os\n",
    "import math\n",
    "import torchvision\n",
    "from torchvision import datasets, transforms\n",
    "from sklearn.metrics import confusion_matrix\n",
    "from sklearn.metrics import classification_report\n",
    "import random\n",
    "import pytorch_lightning as pl\n",
    "from torch.nn import Parameter\n",
    "from typing import Dict, Any\n",
    "from ipywidgets import IntSlider, interact\n",
    "\n",
    "device = torch.device('mps') or torch.device(\"cuda\" if torch.cuda.is_available() else \"cpu\")\n",
    "print(device)\n",
    "\n",
    "import wandb\n",
    "wandb.login()\n",
    "\n",
    "from pytorch_lightning.loggers import WandbLogger"
   ]
  },
  {
   "cell_type": "code",
   "execution_count": 17,
   "metadata": {},
   "outputs": [],
   "source": [
    "class Dataset2D(Dataset):\n",
    "    def __init__(self, data_paths, context_window=4, prediction_window=1, transform=None):\n",
    "        self.data_paths = data_paths\n",
    "        self.context_window = context_window\n",
    "        self.prediction_window = prediction_window\n",
    "        self.transform = transform\n",
    "        self.samples = []\n",
    "        # For every path to a volume sequence in .npy\n",
    "        for data_path in self.data_paths:\n",
    "            volume_seq = np.load(data_path)\n",
    "            # Convert to tensor\n",
    "            volume_seq = torch.from_numpy(volume_seq)\n",
    "            for h in range(volume_seq.shape[1]):\n",
    "                # Generate samples\n",
    "                for t in range(len(volume_seq) - self.context_window - self.prediction_window + 1):\n",
    "                    # Input shape: [T, C, H, W] --> [context_window, 1, 256, 256]\n",
    "                    # Target shape: [T, C, H, W] --> [1, 1, 256, 256]\n",
    "                    self.samples.append((volume_seq[t:t+context_window, h].unsqueeze(1), \n",
    "                                         volume_seq[t+context_window:t+context_window+prediction_window, h].unsqueeze(1)))\n",
    "        \n",
    "    def __len__(self):\n",
    "        return len(self.samples)\n",
    "    \n",
    "    def __getitem__(self, idx):\n",
    "\n",
    "        return self.samples[idx]\n",
    "    \n",
    "class Dataset3D(Dataset):\n",
    "    def __init__(self, data_paths, context_window=4, prediction_window=1, transform=None):\n",
    "        self.data_paths = data_paths\n",
    "        self.context_window = context_window\n",
    "        self.prediction_window = prediction_window\n",
    "        self.transform = transform\n",
    "        self.samples = []\n",
    "        # For every path to a volume sequence in .npy\n",
    "        for data_path in self.data_paths:\n",
    "            volume_seq = np.load(data_path)\n",
    "            # Convert to tensor\n",
    "            volume_seq = torch.from_numpy(volume_seq)\n",
    "\n",
    "            for t in range(volume_seq.shape[0]-context_window-prediction_window+1):\n",
    "                self.samples.append([volume_seq[t:t+context_window].unsqueeze(1), \n",
    "                                     volume_seq[t+context_window:t+context_window+prediction_window].unsqueeze(1)])\n",
    "                # Input-shape: [T, C, D, H, W]\n",
    "                # Target-shape: [T, C, D, H, W]\n",
    "    def __len__(self):\n",
    "        return len(self.samples)\n",
    "    \n",
    "    def __getitem__(self, idx):\n",
    "        return self.samples[idx]\n",
    "    \n",
    "def get_data_loaders_2D_pred(root='../Data',\n",
    "                            batch_size=4, \n",
    "                            sequence_length=4, \n",
    "                            prediction_length=1, \n",
    "                            num_workers=0, \n",
    "                            pin_memory=False, \n",
    "                            drop_last=False,\n",
    "                            train_split=0.8,\n",
    "                            val_split=0.1):\n",
    "    \"\"\"\n",
    "    Train dataset is 2D, Validation and Test datasets are 3D for unified validation and testing with 3D models\n",
    "    \"\"\"\n",
    "    # Load all folder paths\n",
    "    data_paths = [os.path.join(root, path) for path in os.listdir(root)]\n",
    "    # Split into train/val/test\n",
    "    n_train = int(len(data_paths) * train_split)\n",
    "    n_val = int(len(data_paths) * val_split)\n",
    "    train_paths = data_paths[:n_train]\n",
    "    val_paths = data_paths[n_train:n_train+n_val]\n",
    "    test_paths = data_paths[n_train+n_val:]\n",
    "    \n",
    "    # Create datasets\n",
    "    train_dataset = Dataset2D(train_paths, sequence_length, prediction_length)\n",
    "    val_dataset = Dataset3D(val_paths, sequence_length, prediction_length)\n",
    "    test_dataset = Dataset3D(test_paths, sequence_length, prediction_length)\n",
    "    \n",
    "    # Create dataloaders\n",
    "    train_loader = DataLoader(train_dataset, batch_size=batch_size, shuffle=True, drop_last=drop_last)\n",
    "    val_loader = DataLoader(val_dataset, batch_size=batch_size, drop_last=drop_last)\n",
    "    test_loader = DataLoader(test_dataset, batch_size=batch_size, drop_last=drop_last)\n",
    "    \n",
    "    return train_loader, val_loader, test_loader"
   ]
  },
  {
   "cell_type": "code",
   "execution_count": 18,
   "metadata": {},
   "outputs": [],
   "source": [
    "train_loader, val_loader, test_loader = get_data_loaders_2D_pred(batch_size=40, sequence_length=8)"
   ]
  },
  {
   "cell_type": "code",
   "execution_count": 19,
   "metadata": {},
   "outputs": [
    {
     "name": "stdout",
     "output_type": "stream",
     "text": [
      "0 torch.Size([40, 8, 1, 256, 256]) torch.Size([40, 1, 1, 256, 256])\n",
      "0 torch.Size([40, 8, 1, 16, 256, 256]) torch.Size([40, 1, 1, 16, 256, 256])\n"
     ]
    }
   ],
   "source": [
    "for i, (input, target) in enumerate(train_loader):\n",
    "    print(i, input.shape, target.shape)\n",
    "    break\n",
    "for i, (input, target) in enumerate(val_loader):\n",
    "    print(i, input.shape, target.shape)\n",
    "    break\n"
   ]
  },
  {
   "cell_type": "markdown",
   "metadata": {},
   "source": [
    "2Plus1D Unet"
   ]
  },
  {
   "cell_type": "code",
   "execution_count": 10,
   "metadata": {},
   "outputs": [
    {
     "name": "stdout",
     "output_type": "stream",
     "text": [
      "Using device: cpu\n",
      "\n",
      "Testing with T=8\n",
      "Input shape: torch.Size([2, 8, 256, 256])\n",
      "Output shape: torch.Size([2, 1, 256, 256])\n",
      "Test passed!\n",
      "\n",
      "Testing with T=16\n",
      "Input shape: torch.Size([2, 16, 256, 256])\n",
      "Output shape: torch.Size([2, 1, 256, 256])\n",
      "Test passed!\n"
     ]
    }
   ],
   "source": [
    "class DoubleConv2D(nn.Module):\n",
    "    def __init__(self, in_channels, out_channels, mid_channels=None):\n",
    "        super().__init__()\n",
    "        \n",
    "        if not mid_channels:\n",
    "            mid_channels = out_channels\n",
    "            \n",
    "        self.double_conv = nn.Sequential(\n",
    "            # First convolution\n",
    "            nn.Conv2d(\n",
    "                in_channels, \n",
    "                mid_channels,\n",
    "                kernel_size=3,\n",
    "                padding=1,\n",
    "                bias=False  # No bias when using batch norm\n",
    "            ),\n",
    "            nn.BatchNorm2d(mid_channels),\n",
    "            nn.ReLU(inplace=True),\n",
    "            \n",
    "            # Second convolution\n",
    "            nn.Conv2d(\n",
    "                mid_channels,\n",
    "                out_channels,\n",
    "                kernel_size=3,\n",
    "                padding=1,\n",
    "                bias=False  # No bias when using batch norm\n",
    "            ),\n",
    "            nn.BatchNorm2d(out_channels),\n",
    "            nn.ReLU(inplace=True)\n",
    "        )\n",
    "        \n",
    "        # Optional: Add residual connection if input and output channels match\n",
    "        self.use_residual = in_channels == out_channels\n",
    "        \n",
    "    def forward(self, x):\n",
    "        if self.use_residual:\n",
    "            return self.double_conv(x) + x\n",
    "        return self.double_conv(x)\n",
    "    \n",
    "class TemporalBlock(nn.Module):\n",
    "    def __init__(self, channels, temporal_kernel_size=3):\n",
    "        super().__init__()\n",
    "        \n",
    "        padding = temporal_kernel_size // 2\n",
    "        \n",
    "        self.temporal_conv = nn.Sequential(\n",
    "            # Depthwise temporal conv\n",
    "            nn.Conv1d(channels, channels,\n",
    "                     kernel_size=temporal_kernel_size,\n",
    "                     padding=padding,\n",
    "                     groups=channels),\n",
    "            nn.BatchNorm1d(channels),\n",
    "            nn.ReLU(inplace=True),\n",
    "            \n",
    "            # Point-wise conv\n",
    "            nn.Conv1d(channels, channels, kernel_size=1),\n",
    "            nn.BatchNorm1d(channels),\n",
    "            nn.ReLU(inplace=True)\n",
    "        )\n",
    "    \n",
    "    def forward(self, x):\n",
    "        # x shape: [B, C, T, H, W]\n",
    "        b, c, t, h, w = x.shape\n",
    "        \n",
    "        # Reshape for temporal convolution\n",
    "        x_temp = x.contiguous()  # Make memory contiguous\n",
    "        x_temp = x_temp.permute(0, 3, 4, 1, 2)  # [B, H, W, C, T]\n",
    "        x_temp = x_temp.reshape(b*h*w, c, t)\n",
    "        \n",
    "        # Apply temporal convolution\n",
    "        x_temp = self.temporal_conv(x_temp)\n",
    "        \n",
    "        # Reshape back\n",
    "        x_temp = x_temp.reshape(b, h, w, c, t)\n",
    "        x_temp = x_temp.permute(0, 3, 4, 1, 2)  # [B, C, T, H, W]\n",
    "        \n",
    "        return x_temp\n",
    "\n",
    "\n",
    "class UNet2DPlusTemporal(nn.Module):\n",
    "    def __init__(self, input_frames=None, base_filters=32):\n",
    "        super(UNet2DPlusTemporal, self).__init__()\n",
    "        \n",
    "        self.input_frames = input_frames\n",
    "        \n",
    "        # Encoder Path\n",
    "        self.enc1 = DoubleConv2D(1, base_filters)\n",
    "        self.pool1 = nn.MaxPool2d(2)\n",
    "        \n",
    "        self.enc2 = DoubleConv2D(base_filters, base_filters*2)\n",
    "        self.pool2 = nn.MaxPool2d(2)\n",
    "        \n",
    "        # Last encoder with temporal processing\n",
    "        self.enc3 = DoubleConv2D(base_filters*2, base_filters*4)\n",
    "        self.temporal_enc = TemporalBlock(\n",
    "            channels=base_filters*4,\n",
    "            temporal_kernel_size=3\n",
    "        )\n",
    "        self.pool3 = nn.MaxPool2d(2)\n",
    "        \n",
    "        # Bottleneck with temporal processing\n",
    "        self.bottleneck_spatial = DoubleConv2D(base_filters*4, base_filters*8)\n",
    "        self.temporal_bottleneck = TemporalBlock(\n",
    "            channels=base_filters*8,\n",
    "            temporal_kernel_size=3\n",
    "        )\n",
    "        \n",
    "        # Decoder Path\n",
    "        self.upconv3 = nn.ConvTranspose2d(base_filters*8, base_filters*4, \n",
    "                                         kernel_size=2, stride=2)\n",
    "        self.dec3 = DoubleConv2D(base_filters*8, base_filters*4)\n",
    "        \n",
    "        self.upconv2 = nn.ConvTranspose2d(base_filters*4, base_filters*2, \n",
    "                                         kernel_size=2, stride=2)\n",
    "        self.dec2 = DoubleConv2D(base_filters*4, base_filters*2)\n",
    "        \n",
    "        self.upconv1 = nn.ConvTranspose2d(base_filters*2, base_filters, \n",
    "                                         kernel_size=2, stride=2)\n",
    "        self.dec1 = DoubleConv2D(base_filters*2, base_filters)\n",
    "        \n",
    "        self.final_conv = nn.Conv2d(base_filters, 1, kernel_size=1)\n",
    "    \n",
    "    def forward(self, x):\n",
    "        # x shape: [batch, time, height, width]\n",
    "        b, t, h, w = x.shape\n",
    "        assert t == self.input_frames, f\"Expected {self.input_frames} frames, got {t}\"\n",
    "        \n",
    "        # Process each time step through initial spatial encoders\n",
    "        encoder_features = []\n",
    "        enc3_features = []\n",
    "        \n",
    "        for i in range(t):\n",
    "            curr_frame = x[:, i].unsqueeze(1)  # [B, 1, H, W]\n",
    "            \n",
    "            # Initial encoder path\n",
    "            e1 = self.enc1(curr_frame)\n",
    "            p1 = self.pool1(e1)\n",
    "            \n",
    "            e2 = self.enc2(p1)\n",
    "            p2 = self.pool2(e2)\n",
    "            \n",
    "            # Store for skip connections\n",
    "            encoder_features.append((e1, e2))\n",
    "            \n",
    "            # Last encoder\n",
    "            e3 = self.enc3(p2)\n",
    "            enc3_features.append(e3)\n",
    "        \n",
    "        # Process enc3 features temporally\n",
    "        enc3_features = torch.stack(enc3_features, dim=2)  # [B, C, T, H, W]\n",
    "        enc3_processed = self.temporal_enc(enc3_features)\n",
    "        \n",
    "        # Pool spatially after temporal processing\n",
    "        b, c, t, h, w = enc3_processed.shape\n",
    "        enc3_pooled = enc3_processed.contiguous()\n",
    "        enc3_pooled = enc3_pooled.view(b*t, c, h, w)\n",
    "        enc3_pooled = self.pool3(enc3_pooled)\n",
    "        _, _, h_pooled, w_pooled = enc3_pooled.shape\n",
    "        enc3_pooled = enc3_pooled.view(b, c, t, h_pooled, w_pooled)\n",
    "        \n",
    "        # Bottleneck processing\n",
    "        bottle_features = []\n",
    "        for i in range(t):\n",
    "            curr_feat = enc3_pooled[:, :, i]  # [B, C, H, W]\n",
    "            bottle_feat = self.bottleneck_spatial(curr_feat)\n",
    "            bottle_features.append(bottle_feat)\n",
    "        \n",
    "        # Stack and apply temporal processing in bottleneck\n",
    "        bottle_features = torch.stack(bottle_features, dim=2)  # [B, C, T, H, W]\n",
    "        bottle_processed = self.temporal_bottleneck(bottle_features)\n",
    "        \n",
    "        # Take last temporal state for decoder\n",
    "        bottle_final = bottle_processed[:, :, -1]  # [B, C, H, W]\n",
    "        \n",
    "        # Decoder path (using last frame's encoder features)\n",
    "        e1, e2 = encoder_features[-1]\n",
    "        e3 = enc3_processed[:, :, -1]\n",
    "        \n",
    "        d3 = self.upconv3(bottle_final)\n",
    "        d3 = torch.cat([d3, e3], dim=1)\n",
    "        d3 = self.dec3(d3)\n",
    "        \n",
    "        d2 = self.upconv2(d3)\n",
    "        d2 = torch.cat([d2, e2], dim=1)\n",
    "        d2 = self.dec2(d2)\n",
    "        \n",
    "        d1 = self.upconv1(d2)\n",
    "        d1 = torch.cat([d1, e1], dim=1)\n",
    "        d1 = self.dec1(d1)\n",
    "        \n",
    "        return self.final_conv(d1) # [B, 1, H, W]\n",
    "\n",
    "\n",
    "def test_model():\n",
    "    # Test with different temporal dimensions\n",
    "    temporal_sizes = [8, 16]\n",
    "    device = torch.device('mps' if torch.backends.mps.is_available() else 'cpu')\n",
    "    print(f\"Using device: {device}\")\n",
    "    \n",
    "    for T in temporal_sizes:\n",
    "        print(f\"\\nTesting with T={T}\")\n",
    "        model = UNet2DPlusTemporal(input_frames=T).to(device)\n",
    "        x = torch.randn(2, T, 256, 256).to(device)\n",
    "        \n",
    "        try:\n",
    "            out = model(x)\n",
    "            print(f\"Input shape: {x.shape}\")\n",
    "            print(f\"Output shape: {out.shape}\")\n",
    "            print(\"Test passed!\")\n",
    "        except Exception as e:\n",
    "            print(f\"Error with T={T}: {str(e)}\")\n",
    "            raise e  # This will show the full error traceback\n",
    "\n",
    "\n",
    "test_model()"
   ]
  },
  {
   "cell_type": "code",
   "execution_count": 11,
   "metadata": {},
   "outputs": [],
   "source": [
    "def compute_rmse(pred: torch.Tensor, target: torch.Tensor) -> torch.Tensor:\n",
    "    \"\"\"\n",
    "    Compute Root Mean Squared Error (RMSE) between prediction and target.\n",
    "    \"\"\"\n",
    "    mse = F.mse_loss(pred, target)\n",
    "    rmse = torch.sqrt(mse)\n",
    "    return rmse"
   ]
  },
  {
   "cell_type": "code",
   "execution_count": 11,
   "metadata": {},
   "outputs": [],
   "source": [
    "\n",
    "class Pl_Model(pl.LightningModule):\n",
    "    def __init__(\n",
    "        self,\n",
    "        passed_model: nn.Module,\n",
    "        config: Dict[str, Any],\n",
    "        test\n",
    "    ):\n",
    "        super(Pl_Model, self).__init__()\n",
    "        self.passed_model = passed_model\n",
    "        self.config = config\n",
    "\n",
    "        #speicher alle parameter ab\n",
    "        self.save_hyperparameters()\n",
    "        \n",
    "        # Setup training components\n",
    "        self.mse_criterion = nn.MSELoss()\n",
    "        self.huber_criterion = nn.HuberLoss(delta=1.0)\n",
    "        \n",
    "\n",
    "    def forward(self, x):\n",
    "        x = self.passed_model(x)\n",
    "        return x\n",
    "\n",
    "    def configure_optimizers(self):\n",
    "        \"\"\"Sets the Optimizer for the Model\"\"\"\n",
    "        optimizer = optim.Adam(\n",
    "            self.parameters(), \n",
    "            lr=self.hparams.config['learning_rate'],\n",
    "        )\n",
    "        return [optimizer]\n",
    "\n",
    "    def _calculate_loss(self, batch, mode=\"train\"):\n",
    "        \"\"\"Calculates the loss for a batch in different modes (training, validation, testing)\"\"\"\n",
    "        inputs, targets = batch\n",
    "        #to device\n",
    "        #inputs = inputs.to(device)\n",
    "        #targets = targets.to(device)\n",
    "        \n",
    "        if mode==\"val\" or mode==\"test\":\n",
    "            B, T, C, D, H, W = targets.shape\n",
    "            outputs = torch.zeros_like(targets)\n",
    "            # account for added depth adimension in val and test sets\n",
    "            for h in range(D):\n",
    "                outputs[:, :, :, h] = self.forward(input[:, :, :, h])\n",
    "        #calcualte losses\n",
    "        mse_loss = self.mse_criterion(outputs, targets)\n",
    "        huber_loss = self.huber_criterion(outputs, targets)\n",
    "\n",
    "        total_loss = mse_loss + 0.5 * huber_loss\n",
    "\n",
    "        #logging\n",
    "        self.log(f\"{mode}_mse_loss\", mse_loss)\n",
    "        self.log(f\"{mode}_huber_loss\", huber_loss)\n",
    "        self.log(f\"{mode}_total_loss\", total_loss)\n",
    "\n",
    "        return total_loss, mse_loss, huber_loss\n",
    "\n",
    "    def training_step(self, batch, batch_idx):\n",
    "        loss, _, _ = self._calculate_loss(batch, mode=\"train\")\n",
    "        return loss\n",
    "\n",
    "    def validation_step(self, batch, batch_idx):\n",
    "        _ = self._calculate_loss(batch, mode=\"val\")\n",
    "\n",
    "    def test_step(self, batch, batch_idx):\n",
    "        _ = self._calculate_loss(batch, mode=\"test\")\n",
    "\n",
    "    def check_losses(self, loader, mode, use_wandb=False):\n",
    "        mse_loss = 0.0\n",
    "        huber_loss = 0.0\n",
    "        total_loss = 0.0\n",
    "        for inputs, targets in loader:\n",
    "            mse_loss_ = self.mse_criterion(inputs[:, -1, :, :, :].unsqueeze(1), targets)\n",
    "            huber_loss_ = self.huber_criterion(inputs[:, -1, :, :, :].unsqueeze(1), targets)\n",
    "            total_loss_ = mse_loss_ + 0.5 * huber_loss_   \n",
    "        \n",
    "            mse_loss += mse_loss_.item()\n",
    "            huber_loss += huber_loss_.item()\n",
    "            total_loss += total_loss_.item()\n",
    "        mse_loss = mse_loss/len(loader)\n",
    "        huber_loss = huber_loss/len(loader)\n",
    "        total_loss = total_loss/len(loader)\n",
    "    \n",
    "        if use_wandb:\n",
    "            self.log(f\"Checked_{mode}_mse_loss\", mse_loss)\n",
    "            self.log(f\"Checked_{mode}_mse_loss\", huber_loss)\n",
    "            self.log(f\"Checked_{mode}_mse_loss\", total_loss)\n",
    "        \n",
    "        return mse_loss, huber_loss, total_loss        \n",
    "    # def log_predictions(self):\n",
    "    #     \"\"\"Log example predictions to wandb\"\"\"\n",
    "    #     #needs to be added to other method\n",
    "    #     if epoch % self.config['viz_interval'] == 0:\n",
    "    #             self.log_predictions()\n",
    "    #     #but this whole method needs to be rewritten\n",
    "    #     self.model.eval()\n",
    "    #     with torch.no_grad():\n",
    "    #         # Get a batch of validation data\n",
    "    #         data, target = next(iter(self.val_loader))\n",
    "    #         data = data.to(self.device)\n",
    "    #         target = target.to(self.device)\n",
    "            \n",
    "    #         # Generate predictions\n",
    "    #         output = self.model(data)\n",
    "            \n",
    "    #         # Log images\n",
    "    #         wandb.log({\n",
    "    #             \"predictions\": wandb.Image(output[0, 0].cpu()),\n",
    "    #             \"targets\": wandb.Image(target[0, 0].cpu()),\n",
    "    #             \"input_sequence\": [wandb.Image(data[0, i].cpu()) for i in range(data.shape[1])]\n",
    "    #         })\n"
   ]
  },
  {
   "cell_type": "code",
   "execution_count": 15,
   "metadata": {},
   "outputs": [
    {
     "name": "stderr",
     "output_type": "stream",
     "text": [
      "GPU available: True (cuda), used: True\n",
      "TPU available: False, using: 0 TPU cores\n",
      "HPU available: False, using: 0 HPUs\n",
      "\u001b[34m\u001b[1mwandb\u001b[0m: logging graph, to disable use `wandb.watch(log_graph=False)`\n"
     ]
    }
   ],
   "source": [
    "config = {\n",
    "    #for the dataloaders\n",
    "    'batch_size': 40,\n",
    "    'learning_rate': 0.0005,\n",
    "    \"num_workers\": 10,#0, wenn die gpu nicht benutzt wird\n",
    "    \"pin_memory\": True,#False, wenn die gpu nicht benutzt wird\n",
    "    \"drop_last\": False,\n",
    "    'epochs': 40,\n",
    "    #'log_interval': 20,\n",
    "    #'viz_interval': 1,\n",
    "    'run_name': '2D-UNet+_temp_v1',\n",
    "    'input_frames': 8,\n",
    "    'base_filters': 32,\n",
    "    'train_split': 0.8,\n",
    "    'val_split': 0.1,\n",
    "    'test_split': 0.1\n",
    "}\n",
    "\n",
    "# Initialize model\n",
    "model = UNet2DPlusTemporal(\n",
    "    input_frames=config['input_frames'],\n",
    "    base_filters=config['base_filters'],\n",
    ")\n",
    "\n",
    "# Get data loaders\n",
    "train_loader, val_loader, test_loader = get_data_loaders_2D_pred(\n",
    "    batch_size=config['batch_size'],\n",
    "    sequence_length=config['input_frames'],\n",
    "    num_workers=config[\"num_workers\"],\n",
    "    pin_memory=config[\"pin_memory\"],\n",
    "    drop_last=config[\"drop_last\"],\n",
    ")\n",
    "\n",
    "wandb_logger = WandbLogger(project=\"perfusion-ct-prediction\", name=config[\"run_name\"])\n",
    "\n",
    "# Initialize pl_model\n",
    "pl_model = Pl_Model(\n",
    "    passed_model=model,\n",
    "    config=config,\n",
    ")\n",
    "\n",
    "# Initialize trainer\n",
    "trainer = pl.Trainer(\n",
    "    logger=wandb_logger,\n",
    "    accelerator=\"gpu\",\n",
    "    devices= [1] if torch.cuda.is_available() else None,\n",
    "    max_epochs=config[\"epochs\"],\n",
    ")\n",
    "\n",
    "wandb_logger.watch(pl_model)\n"
   ]
  },
  {
   "cell_type": "code",
   "execution_count": 16,
   "metadata": {
    "collapsed": true,
    "jupyter": {
     "outputs_hidden": true
    },
    "scrolled": true
   },
   "outputs": [
    {
     "name": "stderr",
     "output_type": "stream",
     "text": [
      "LOCAL_RANK: 0 - CUDA_VISIBLE_DEVICES: [0,1,2,3]\n",
      "\n",
      "  | Name            | Type               | Params | Mode \n",
      "---------------------------------------------------------------\n",
      "0 | passed_model    | UNet2DPlusTemporal | 2.0 M  | train\n",
      "1 | mse_criterion   | MSELoss            | 0      | train\n",
      "2 | huber_criterion | HuberLoss          | 0      | train\n",
      "---------------------------------------------------------------\n",
      "2.0 M     Trainable params\n",
      "0         Non-trainable params\n",
      "2.0 M     Total params\n",
      "8.047     Total estimated model params size (MB)\n",
      "82        Modules in train mode\n",
      "0         Modules in eval mode\n"
     ]
    },
    {
     "data": {
      "application/vnd.jupyter.widget-view+json": {
       "model_id": "4976202f447f45bd9c34ae4ea06356f2",
       "version_major": 2,
       "version_minor": 0
      },
      "text/plain": [
       "Sanity Checking: |                                                                                            …"
      ]
     },
     "metadata": {},
     "output_type": "display_data"
    },
    {
     "data": {
      "application/vnd.jupyter.widget-view+json": {
       "model_id": "196ffd8a7d7747009f25145b1538ffb6",
       "version_major": 2,
       "version_minor": 0
      },
      "text/plain": [
       "Training: |                                                                                                   …"
      ]
     },
     "metadata": {},
     "output_type": "display_data"
    },
    {
     "data": {
      "application/vnd.jupyter.widget-view+json": {
       "model_id": "10ae95ce70f44b61a597eface5c905fc",
       "version_major": 2,
       "version_minor": 0
      },
      "text/plain": [
       "Validation: |                                                                                                 …"
      ]
     },
     "metadata": {},
     "output_type": "display_data"
    },
    {
     "data": {
      "application/vnd.jupyter.widget-view+json": {
       "model_id": "68a033e06a1c4bf988c17ac14d9aea9c",
       "version_major": 2,
       "version_minor": 0
      },
      "text/plain": [
       "Validation: |                                                                                                 …"
      ]
     },
     "metadata": {},
     "output_type": "display_data"
    },
    {
     "data": {
      "application/vnd.jupyter.widget-view+json": {
       "model_id": "2e6e7a4f86744b52bbdaf640e5de7d06",
       "version_major": 2,
       "version_minor": 0
      },
      "text/plain": [
       "Validation: |                                                                                                 …"
      ]
     },
     "metadata": {},
     "output_type": "display_data"
    },
    {
     "data": {
      "application/vnd.jupyter.widget-view+json": {
       "model_id": "afbcacdf67d1495696992a7d6db19056",
       "version_major": 2,
       "version_minor": 0
      },
      "text/plain": [
       "Validation: |                                                                                                 …"
      ]
     },
     "metadata": {},
     "output_type": "display_data"
    },
    {
     "data": {
      "application/vnd.jupyter.widget-view+json": {
       "model_id": "ab7933f9fa37448898274138c67dc791",
       "version_major": 2,
       "version_minor": 0
      },
      "text/plain": [
       "Validation: |                                                                                                 …"
      ]
     },
     "metadata": {},
     "output_type": "display_data"
    },
    {
     "data": {
      "application/vnd.jupyter.widget-view+json": {
       "model_id": "1ee39c355f2a4577b5a098a729ce491d",
       "version_major": 2,
       "version_minor": 0
      },
      "text/plain": [
       "Validation: |                                                                                                 …"
      ]
     },
     "metadata": {},
     "output_type": "display_data"
    },
    {
     "data": {
      "application/vnd.jupyter.widget-view+json": {
       "model_id": "4b1ad2c4ae464e38b65ca39a341c74ca",
       "version_major": 2,
       "version_minor": 0
      },
      "text/plain": [
       "Validation: |                                                                                                 …"
      ]
     },
     "metadata": {},
     "output_type": "display_data"
    },
    {
     "data": {
      "application/vnd.jupyter.widget-view+json": {
       "model_id": "893ca45fa7a44a80bdd2b9be2ab0c326",
       "version_major": 2,
       "version_minor": 0
      },
      "text/plain": [
       "Validation: |                                                                                                 …"
      ]
     },
     "metadata": {},
     "output_type": "display_data"
    },
    {
     "data": {
      "application/vnd.jupyter.widget-view+json": {
       "model_id": "662be3b1d2674f6cb512ab037beeffcf",
       "version_major": 2,
       "version_minor": 0
      },
      "text/plain": [
       "Validation: |                                                                                                 …"
      ]
     },
     "metadata": {},
     "output_type": "display_data"
    },
    {
     "data": {
      "application/vnd.jupyter.widget-view+json": {
       "model_id": "2277ea4a5e21411282fa8f2b25d735a4",
       "version_major": 2,
       "version_minor": 0
      },
      "text/plain": [
       "Validation: |                                                                                                 …"
      ]
     },
     "metadata": {},
     "output_type": "display_data"
    },
    {
     "data": {
      "application/vnd.jupyter.widget-view+json": {
       "model_id": "ec818fe7761643dd875e762f5bb3f3da",
       "version_major": 2,
       "version_minor": 0
      },
      "text/plain": [
       "Validation: |                                                                                                 …"
      ]
     },
     "metadata": {},
     "output_type": "display_data"
    },
    {
     "data": {
      "application/vnd.jupyter.widget-view+json": {
       "model_id": "7bfe29477904455dbe8af106ebfaaa5a",
       "version_major": 2,
       "version_minor": 0
      },
      "text/plain": [
       "Validation: |                                                                                                 …"
      ]
     },
     "metadata": {},
     "output_type": "display_data"
    },
    {
     "data": {
      "application/vnd.jupyter.widget-view+json": {
       "model_id": "7d3891b387db46d8a5f001190e6ffd6e",
       "version_major": 2,
       "version_minor": 0
      },
      "text/plain": [
       "Validation: |                                                                                                 …"
      ]
     },
     "metadata": {},
     "output_type": "display_data"
    },
    {
     "data": {
      "application/vnd.jupyter.widget-view+json": {
       "model_id": "8ab21b9c62584b6990530679e0c1ec9a",
       "version_major": 2,
       "version_minor": 0
      },
      "text/plain": [
       "Validation: |                                                                                                 …"
      ]
     },
     "metadata": {},
     "output_type": "display_data"
    },
    {
     "data": {
      "application/vnd.jupyter.widget-view+json": {
       "model_id": "65741bc0a8964d71955d7079ab8ca2b0",
       "version_major": 2,
       "version_minor": 0
      },
      "text/plain": [
       "Validation: |                                                                                                 …"
      ]
     },
     "metadata": {},
     "output_type": "display_data"
    },
    {
     "data": {
      "application/vnd.jupyter.widget-view+json": {
       "model_id": "83e1e16af07c41409958c21d035fb727",
       "version_major": 2,
       "version_minor": 0
      },
      "text/plain": [
       "Validation: |                                                                                                 …"
      ]
     },
     "metadata": {},
     "output_type": "display_data"
    },
    {
     "data": {
      "application/vnd.jupyter.widget-view+json": {
       "model_id": "107359e6f3ad4ca0965b6a5d25cb8f3b",
       "version_major": 2,
       "version_minor": 0
      },
      "text/plain": [
       "Validation: |                                                                                                 …"
      ]
     },
     "metadata": {},
     "output_type": "display_data"
    },
    {
     "data": {
      "application/vnd.jupyter.widget-view+json": {
       "model_id": "82f4b7d795914ffda92dad530a51c98e",
       "version_major": 2,
       "version_minor": 0
      },
      "text/plain": [
       "Validation: |                                                                                                 …"
      ]
     },
     "metadata": {},
     "output_type": "display_data"
    },
    {
     "data": {
      "application/vnd.jupyter.widget-view+json": {
       "model_id": "d0496c02d72b49e795591dbc34532ac7",
       "version_major": 2,
       "version_minor": 0
      },
      "text/plain": [
       "Validation: |                                                                                                 …"
      ]
     },
     "metadata": {},
     "output_type": "display_data"
    },
    {
     "data": {
      "application/vnd.jupyter.widget-view+json": {
       "model_id": "681e80efcb014fbdb998f4bf5798bf34",
       "version_major": 2,
       "version_minor": 0
      },
      "text/plain": [
       "Validation: |                                                                                                 …"
      ]
     },
     "metadata": {},
     "output_type": "display_data"
    },
    {
     "data": {
      "application/vnd.jupyter.widget-view+json": {
       "model_id": "3d6540ad66894d0abf4c58427fd4c08d",
       "version_major": 2,
       "version_minor": 0
      },
      "text/plain": [
       "Validation: |                                                                                                 …"
      ]
     },
     "metadata": {},
     "output_type": "display_data"
    },
    {
     "data": {
      "application/vnd.jupyter.widget-view+json": {
       "model_id": "e1900c6a789549e8b567eed06261b63a",
       "version_major": 2,
       "version_minor": 0
      },
      "text/plain": [
       "Validation: |                                                                                                 …"
      ]
     },
     "metadata": {},
     "output_type": "display_data"
    },
    {
     "data": {
      "application/vnd.jupyter.widget-view+json": {
       "model_id": "9eae891036a743dc826f956ce33c43a2",
       "version_major": 2,
       "version_minor": 0
      },
      "text/plain": [
       "Validation: |                                                                                                 …"
      ]
     },
     "metadata": {},
     "output_type": "display_data"
    },
    {
     "data": {
      "application/vnd.jupyter.widget-view+json": {
       "model_id": "721d68118ff94cd997583ca146b9a128",
       "version_major": 2,
       "version_minor": 0
      },
      "text/plain": [
       "Validation: |                                                                                                 …"
      ]
     },
     "metadata": {},
     "output_type": "display_data"
    },
    {
     "data": {
      "application/vnd.jupyter.widget-view+json": {
       "model_id": "fcbe58d576ef44f686d089b9f7fc5c5e",
       "version_major": 2,
       "version_minor": 0
      },
      "text/plain": [
       "Validation: |                                                                                                 …"
      ]
     },
     "metadata": {},
     "output_type": "display_data"
    },
    {
     "data": {
      "application/vnd.jupyter.widget-view+json": {
       "model_id": "643f2af484b744a9893ec99eb79f0ae7",
       "version_major": 2,
       "version_minor": 0
      },
      "text/plain": [
       "Validation: |                                                                                                 …"
      ]
     },
     "metadata": {},
     "output_type": "display_data"
    },
    {
     "data": {
      "application/vnd.jupyter.widget-view+json": {
       "model_id": "5171e56f71ff42d7a9a0d4466dce496b",
       "version_major": 2,
       "version_minor": 0
      },
      "text/plain": [
       "Validation: |                                                                                                 …"
      ]
     },
     "metadata": {},
     "output_type": "display_data"
    },
    {
     "data": {
      "application/vnd.jupyter.widget-view+json": {
       "model_id": "74af1332952e47c2a20ee7d695875921",
       "version_major": 2,
       "version_minor": 0
      },
      "text/plain": [
       "Validation: |                                                                                                 …"
      ]
     },
     "metadata": {},
     "output_type": "display_data"
    },
    {
     "data": {
      "application/vnd.jupyter.widget-view+json": {
       "model_id": "e1483f7fa7874ca29bac648e16a02c1e",
       "version_major": 2,
       "version_minor": 0
      },
      "text/plain": [
       "Validation: |                                                                                                 …"
      ]
     },
     "metadata": {},
     "output_type": "display_data"
    },
    {
     "data": {
      "application/vnd.jupyter.widget-view+json": {
       "model_id": "dac2c54ae843434e996f27fb34c3584f",
       "version_major": 2,
       "version_minor": 0
      },
      "text/plain": [
       "Validation: |                                                                                                 …"
      ]
     },
     "metadata": {},
     "output_type": "display_data"
    },
    {
     "data": {
      "application/vnd.jupyter.widget-view+json": {
       "model_id": "b9ff777ee71f4799a97400b54a3c2df5",
       "version_major": 2,
       "version_minor": 0
      },
      "text/plain": [
       "Validation: |                                                                                                 …"
      ]
     },
     "metadata": {},
     "output_type": "display_data"
    },
    {
     "data": {
      "application/vnd.jupyter.widget-view+json": {
       "model_id": "8b9c76290a7b41dba3dbdc375b9822db",
       "version_major": 2,
       "version_minor": 0
      },
      "text/plain": [
       "Validation: |                                                                                                 …"
      ]
     },
     "metadata": {},
     "output_type": "display_data"
    },
    {
     "data": {
      "application/vnd.jupyter.widget-view+json": {
       "model_id": "7f0f40ba68424dd584b90a5a5642404c",
       "version_major": 2,
       "version_minor": 0
      },
      "text/plain": [
       "Validation: |                                                                                                 …"
      ]
     },
     "metadata": {},
     "output_type": "display_data"
    },
    {
     "data": {
      "application/vnd.jupyter.widget-view+json": {
       "model_id": "14dbe6b7bb754c24b9912a691030fefa",
       "version_major": 2,
       "version_minor": 0
      },
      "text/plain": [
       "Validation: |                                                                                                 …"
      ]
     },
     "metadata": {},
     "output_type": "display_data"
    },
    {
     "data": {
      "application/vnd.jupyter.widget-view+json": {
       "model_id": "5d2b6104347946f6ad4a2ce8e0988604",
       "version_major": 2,
       "version_minor": 0
      },
      "text/plain": [
       "Validation: |                                                                                                 …"
      ]
     },
     "metadata": {},
     "output_type": "display_data"
    },
    {
     "data": {
      "application/vnd.jupyter.widget-view+json": {
       "model_id": "eee934f9def74bccb7bc1f407ce13fca",
       "version_major": 2,
       "version_minor": 0
      },
      "text/plain": [
       "Validation: |                                                                                                 …"
      ]
     },
     "metadata": {},
     "output_type": "display_data"
    },
    {
     "data": {
      "application/vnd.jupyter.widget-view+json": {
       "model_id": "b264953d3393479182ae92aef24db159",
       "version_major": 2,
       "version_minor": 0
      },
      "text/plain": [
       "Validation: |                                                                                                 …"
      ]
     },
     "metadata": {},
     "output_type": "display_data"
    },
    {
     "data": {
      "application/vnd.jupyter.widget-view+json": {
       "model_id": "acb228127c4c4b2fb00b52e7cefd7100",
       "version_major": 2,
       "version_minor": 0
      },
      "text/plain": [
       "Validation: |                                                                                                 …"
      ]
     },
     "metadata": {},
     "output_type": "display_data"
    },
    {
     "data": {
      "application/vnd.jupyter.widget-view+json": {
       "model_id": "7a69b96d951e405b835addcebc3c23da",
       "version_major": 2,
       "version_minor": 0
      },
      "text/plain": [
       "Validation: |                                                                                                 …"
      ]
     },
     "metadata": {},
     "output_type": "display_data"
    },
    {
     "data": {
      "application/vnd.jupyter.widget-view+json": {
       "model_id": "cfd9347de2e745edb7217467903206df",
       "version_major": 2,
       "version_minor": 0
      },
      "text/plain": [
       "Validation: |                                                                                                 …"
      ]
     },
     "metadata": {},
     "output_type": "display_data"
    },
    {
     "name": "stderr",
     "output_type": "stream",
     "text": [
      "`Trainer.fit` stopped: `max_epochs=40` reached.\n"
     ]
    },
    {
     "ename": "IndexError",
     "evalue": "too many indices for tensor of dimension 4",
     "output_type": "error",
     "traceback": [
      "\u001b[0;31m---------------------------------------------------------------------------\u001b[0m",
      "\u001b[0;31mIndexError\u001b[0m                                Traceback (most recent call last)",
      "Cell \u001b[0;32mIn[16], line 8\u001b[0m\n\u001b[1;32m      1\u001b[0m trainer\u001b[38;5;241m.\u001b[39mfit(\n\u001b[1;32m      2\u001b[0m     pl_model,\n\u001b[1;32m      3\u001b[0m     train_dataloaders\u001b[38;5;241m=\u001b[39mtrain_loader,\n\u001b[1;32m      4\u001b[0m     val_dataloaders\u001b[38;5;241m=\u001b[39mval_loader,\n\u001b[1;32m      5\u001b[0m )\n\u001b[1;32m      7\u001b[0m \u001b[38;5;66;03m#check the losses \"to beat\"\u001b[39;00m\n\u001b[0;32m----> 8\u001b[0m \u001b[43mpl_model\u001b[49m\u001b[38;5;241;43m.\u001b[39;49m\u001b[43mcheck_losses\u001b[49m\u001b[43m(\u001b[49m\u001b[43mtrain_loader\u001b[49m\u001b[43m,\u001b[49m\u001b[43m \u001b[49m\u001b[43mmode\u001b[49m\u001b[38;5;241;43m=\u001b[39;49m\u001b[38;5;124;43m\"\u001b[39;49m\u001b[38;5;124;43mtrain\u001b[39;49m\u001b[38;5;124;43m\"\u001b[39;49m\u001b[43m,\u001b[49m\u001b[43m \u001b[49m\u001b[43muse_wandb\u001b[49m\u001b[38;5;241;43m=\u001b[39;49m\u001b[38;5;28;43;01mTrue\u001b[39;49;00m\u001b[43m)\u001b[49m\n\u001b[1;32m      9\u001b[0m pl_model\u001b[38;5;241m.\u001b[39mcheck_losses(val_loader, mode\u001b[38;5;241m=\u001b[39m\u001b[38;5;124m\"\u001b[39m\u001b[38;5;124mval\u001b[39m\u001b[38;5;124m\"\u001b[39m, use_wandb\u001b[38;5;241m=\u001b[39m\u001b[38;5;28;01mTrue\u001b[39;00m)\n\u001b[1;32m     10\u001b[0m pl_model\u001b[38;5;241m.\u001b[39mcheck_losses(test_loader, mode\u001b[38;5;241m=\u001b[39m\u001b[38;5;124m\"\u001b[39m\u001b[38;5;124mtest\u001b[39m\u001b[38;5;124m\"\u001b[39m, use_wandb\u001b[38;5;241m=\u001b[39m\u001b[38;5;28;01mTrue\u001b[39;00m)\n",
      "Cell \u001b[0;32mIn[11], line 69\u001b[0m, in \u001b[0;36mPl_Model.check_losses\u001b[0;34m(self, loader, mode, use_wandb)\u001b[0m\n\u001b[1;32m     67\u001b[0m total_loss \u001b[38;5;241m=\u001b[39m \u001b[38;5;241m0.0\u001b[39m\n\u001b[1;32m     68\u001b[0m \u001b[38;5;28;01mfor\u001b[39;00m inputs, targets \u001b[38;5;129;01min\u001b[39;00m loader:\n\u001b[0;32m---> 69\u001b[0m     mse_loss_ \u001b[38;5;241m=\u001b[39m \u001b[38;5;28mself\u001b[39m\u001b[38;5;241m.\u001b[39mmse_criterion(\u001b[43minputs\u001b[49m\u001b[43m[\u001b[49m\u001b[43m:\u001b[49m\u001b[43m,\u001b[49m\u001b[43m \u001b[49m\u001b[38;5;241;43m-\u001b[39;49m\u001b[38;5;241;43m1\u001b[39;49m\u001b[43m,\u001b[49m\u001b[43m \u001b[49m\u001b[43m:\u001b[49m\u001b[43m,\u001b[49m\u001b[43m \u001b[49m\u001b[43m:\u001b[49m\u001b[43m,\u001b[49m\u001b[43m \u001b[49m\u001b[43m:\u001b[49m\u001b[43m]\u001b[49m\u001b[38;5;241m.\u001b[39munsqueeze(\u001b[38;5;241m1\u001b[39m), targets)\n\u001b[1;32m     70\u001b[0m     huber_loss_ \u001b[38;5;241m=\u001b[39m \u001b[38;5;28mself\u001b[39m\u001b[38;5;241m.\u001b[39mhuber_criterion(inputs[:, \u001b[38;5;241m-\u001b[39m\u001b[38;5;241m1\u001b[39m, :, :, :]\u001b[38;5;241m.\u001b[39munsqueeze(\u001b[38;5;241m1\u001b[39m), targets)\n\u001b[1;32m     71\u001b[0m     total_loss_ \u001b[38;5;241m=\u001b[39m mse_loss_ \u001b[38;5;241m+\u001b[39m \u001b[38;5;241m0.5\u001b[39m \u001b[38;5;241m*\u001b[39m huber_loss_   \n",
      "\u001b[0;31mIndexError\u001b[0m: too many indices for tensor of dimension 4"
     ]
    }
   ],
   "source": [
    "\n",
    "trainer.fit(\n",
    "    pl_model,\n",
    "    train_dataloaders=train_loader,\n",
    "    val_dataloaders=val_loader,\n",
    ")\n"
   ]
  },
  {
   "cell_type": "code",
   "execution_count": 18,
   "metadata": {},
   "outputs": [],
   "source": [
    "inputs, targets = next(iter(train_loader))"
   ]
  },
  {
   "cell_type": "code",
   "execution_count": 19,
   "metadata": {},
   "outputs": [
    {
     "data": {
      "text/plain": [
       "torch.Size([40, 8, 256, 256])"
      ]
     },
     "execution_count": 19,
     "metadata": {},
     "output_type": "execute_result"
    }
   ],
   "source": [
    "inputs.shape"
   ]
  },
  {
   "cell_type": "code",
   "execution_count": 22,
   "metadata": {},
   "outputs": [
    {
     "name": "stderr",
     "output_type": "stream",
     "text": [
      "/usr/local/lib/python3.8/dist-packages/pytorch_lightning/trainer/connectors/checkpoint_connector.py:145: `.validate(ckpt_path=None)` was called without a model. The best model of the previous `fit` call will be used. You can pass `.validate(ckpt_path='best')` to use the best model or `.validate(ckpt_path='last')` to use the last model. If you pass a value, this warning will be silenced.\n",
      "Restoring states from the checkpoint path at ./perfusion-ct-prediction/90959bem/checkpoints/epoch=39-step=1280.ckpt\n",
      "LOCAL_RANK: 0 - CUDA_VISIBLE_DEVICES: [0,1,2,3]\n",
      "Loaded model weights from the checkpoint at ./perfusion-ct-prediction/90959bem/checkpoints/epoch=39-step=1280.ckpt\n"
     ]
    },
    {
     "data": {
      "application/vnd.jupyter.widget-view+json": {
       "model_id": "2b5abe37492e458699a65e0da4eb8bd0",
       "version_major": 2,
       "version_minor": 0
      },
      "text/plain": [
       "Validation: |                                                                                                 …"
      ]
     },
     "metadata": {},
     "output_type": "display_data"
    },
    {
     "name": "stderr",
     "output_type": "stream",
     "text": [
      "/usr/local/lib/python3.8/dist-packages/pytorch_lightning/trainer/connectors/checkpoint_connector.py:145: `.test(ckpt_path=None)` was called without a model. The best model of the previous `fit` call will be used. You can pass `.test(ckpt_path='best')` to use the best model or `.test(ckpt_path='last')` to use the last model. If you pass a value, this warning will be silenced.\n",
      "Restoring states from the checkpoint path at ./perfusion-ct-prediction/90959bem/checkpoints/epoch=39-step=1280.ckpt\n",
      "LOCAL_RANK: 0 - CUDA_VISIBLE_DEVICES: [0,1,2,3]\n",
      "Loaded model weights from the checkpoint at ./perfusion-ct-prediction/90959bem/checkpoints/epoch=39-step=1280.ckpt\n"
     ]
    },
    {
     "name": "stdout",
     "output_type": "stream",
     "text": [
      "────────────────────────────────────────────────────────────────────────────────────────────────────────────────────────\n",
      "     Validate metric           DataLoader 0\n",
      "────────────────────────────────────────────────────────────────────────────────────────────────────────────────────────\n",
      "     val_huber_loss        0.0055703893303871155\n",
      "      val_mse_loss         0.011146889999508858\n",
      "     val_total_loss        0.013932084664702415\n",
      "────────────────────────────────────────────────────────────────────────────────────────────────────────────────────────\n"
     ]
    },
    {
     "name": "stderr",
     "output_type": "stream",
     "text": [
      "/usr/local/lib/python3.8/dist-packages/pytorch_lightning/trainer/connectors/data_connector.py:424: The 'test_dataloader' does not have many workers which may be a bottleneck. Consider increasing the value of the `num_workers` argument` to `num_workers=255` in the `DataLoader` to improve performance.\n"
     ]
    },
    {
     "data": {
      "application/vnd.jupyter.widget-view+json": {
       "model_id": "8f23f58a38084ed9a61c828e1a133ebd",
       "version_major": 2,
       "version_minor": 0
      },
      "text/plain": [
       "Testing: |                                                                                                    …"
      ]
     },
     "metadata": {},
     "output_type": "display_data"
    },
    {
     "name": "stdout",
     "output_type": "stream",
     "text": [
      "────────────────────────────────────────────────────────────────────────────────────────────────────────────────────────\n",
      "       Test metric             DataLoader 0\n",
      "────────────────────────────────────────────────────────────────────────────────────────────────────────────────────────\n",
      "     test_huber_loss       0.006914335303008556\n",
      "      test_mse_loss        0.013844689354300499\n",
      "     test_total_loss       0.017301857471466064\n",
      "────────────────────────────────────────────────────────────────────────────────────────────────────────────────────────\n"
     ]
    }
   ],
   "source": [
    "val_results = trainer.validate(dataloaders=val_loader)\n",
    "test_results = trainer.test(dataloaders=test_loader)"
   ]
  },
  {
   "cell_type": "code",
   "execution_count": 21,
   "metadata": {},
   "outputs": [],
   "source": [
    "save_load_path = f\"../ModelWeights/{config['run_name']}.ckpt\"\n",
    "trainer.save_checkpoint(save_load_path)"
   ]
  },
  {
   "cell_type": "code",
   "execution_count": null,
   "metadata": {},
   "outputs": [],
   "source": []
  }
 ],
 "metadata": {
  "kernelspec": {
   "display_name": "ct",
   "language": "python",
   "name": "python3"
  },
  "language_info": {
   "codemirror_mode": {
    "name": "ipython",
    "version": 3
   },
   "file_extension": ".py",
   "mimetype": "text/x-python",
   "name": "python",
   "nbconvert_exporter": "python",
   "pygments_lexer": "ipython3",
   "version": "3.11.9"
  }
 },
 "nbformat": 4,
 "nbformat_minor": 4
}
