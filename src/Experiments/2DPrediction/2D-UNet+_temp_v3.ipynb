{
 "cells": [
  {
   "cell_type": "code",
   "execution_count": 1,
   "metadata": {},
   "outputs": [
    {
     "name": "stdout",
     "output_type": "stream",
     "text": [
      "mps\n"
     ]
    },
    {
     "name": "stderr",
     "output_type": "stream",
     "text": [
      "\u001b[34m\u001b[1mwandb\u001b[0m: Using wandb-core as the SDK backend.  Please refer to https://wandb.me/wandb-core for more information.\n",
      "\u001b[34m\u001b[1mwandb\u001b[0m: Currently logged in as: \u001b[33msimon-ma\u001b[0m. Use \u001b[1m`wandb login --relogin`\u001b[0m to force relogin\n"
     ]
    }
   ],
   "source": [
    "import torch\n",
    "import torch.nn as nn\n",
    "import torch.nn.functional as F\n",
    "import torch.optim as optim\n",
    "from torch.utils.data import Dataset, DataLoader\n",
    "from torchmetrics.functional import structural_similarity_index_measure, peak_signal_noise_ratio\n",
    "import matplotlib.pyplot as plt\n",
    "import pandas as pd\n",
    "import numpy as np\n",
    "import os\n",
    "import math\n",
    "import torchvision\n",
    "from torchvision import datasets, transforms\n",
    "from sklearn.metrics import confusion_matrix\n",
    "from sklearn.metrics import classification_report\n",
    "import random\n",
    "import pytorch_lightning as pl\n",
    "from torch.nn import Parameter\n",
    "from typing import Dict, Any\n",
    "from ipywidgets import IntSlider, interact\n",
    "\n",
    "device = torch.device('mps') or torch.device(\"cuda\" if torch.cuda.is_available() else \"cpu\")\n",
    "print(device)\n",
    "\n",
    "import wandb\n",
    "wandb.login()\n",
    "\n",
    "from pytorch_lightning.loggers import WandbLogger"
   ]
  },
  {
   "cell_type": "code",
   "execution_count": 2,
   "metadata": {},
   "outputs": [],
   "source": [
    "class Dataset2D(Dataset):\n",
    "    def __init__(self, data_paths, context_window=4, prediction_window=1, transform=None):\n",
    "        self.data_paths = data_paths\n",
    "        self.context_window = context_window\n",
    "        self.prediction_window = prediction_window\n",
    "        self.transform = transform\n",
    "        self.samples = []\n",
    "        # For every path to a volume sequence in .npy\n",
    "        for data_path in self.data_paths:\n",
    "            volume_seq = np.load(data_path)\n",
    "            # Convert to tensor\n",
    "            volume_seq = torch.from_numpy(volume_seq)\n",
    "            for h in range(volume_seq.shape[1]):\n",
    "                # Generate samples\n",
    "                for t in range(len(volume_seq) - self.context_window - self.prediction_window + 1):\n",
    "                    # Input shape: [T, C, H, W] --> [context_window, 1, 256, 256]\n",
    "                    # Target shape: [T, C, H, W] --> [prediction_window, 1, 256, 256]\n",
    "                    self.samples.append((volume_seq[t:t+context_window, h].unsqueeze(1), \n",
    "                                         volume_seq[t+context_window:t+context_window+prediction_window, h].unsqueeze(1)))\n",
    "        \n",
    "    def __len__(self):\n",
    "        return len(self.samples)\n",
    "    \n",
    "    def __getitem__(self, idx):\n",
    "\n",
    "        return self.samples[idx]\n",
    "    \n",
    "class Dataset3D(Dataset):\n",
    "    def __init__(self, data_paths, context_window=4, prediction_window=1, transform=None):\n",
    "        self.data_paths = data_paths\n",
    "        self.context_window = context_window\n",
    "        self.prediction_window = prediction_window\n",
    "        self.transform = transform\n",
    "        self.samples = []\n",
    "        # For every path to a volume sequence in .npy\n",
    "        for data_path in self.data_paths:\n",
    "            volume_seq = np.load(data_path)\n",
    "            # Convert to tensor\n",
    "            volume_seq = torch.from_numpy(volume_seq)\n",
    "\n",
    "            for t in range(volume_seq.shape[0]-context_window-prediction_window+1):\n",
    "                self.samples.append([volume_seq[t:t+context_window].unsqueeze(1), \n",
    "                                     volume_seq[t+context_window:t+context_window+prediction_window].unsqueeze(1)])\n",
    "                # Input-shape: [T, C, D, H, W]\n",
    "                # Target-shape: [T, C, D, H, W]\n",
    "    def __len__(self):\n",
    "        return len(self.samples)\n",
    "    \n",
    "    def __getitem__(self, idx):\n",
    "        return self.samples[idx]\n",
    "    \n",
    "def get_data_loaders_2D_pred(root='../Data',\n",
    "                            batch_size=4, \n",
    "                            sequence_length=4, \n",
    "                            prediction_length=1, \n",
    "                            num_workers=0, \n",
    "                            pin_memory=False, \n",
    "                            drop_last=False,\n",
    "                            train_split=0.8,\n",
    "                            val_split=0.1):\n",
    "    \"\"\"\n",
    "    Train dataset is 2D, Validation and Test datasets are 3D for unified validation and testing with 3D models\n",
    "    \"\"\"\n",
    "    # Load all folder paths\n",
    "    data_paths = [os.path.join(root, path) for path in os.listdir(root)]\n",
    "    # Split into train/val/test\n",
    "    n_train = int(len(data_paths) * train_split)\n",
    "    n_val = int(len(data_paths) * val_split)\n",
    "    train_paths = data_paths[:n_train]\n",
    "    val_paths = data_paths[n_train:n_train+n_val]\n",
    "    test_paths = data_paths[n_train+n_val:]\n",
    "    \n",
    "    # Create datasets\n",
    "    train_dataset = Dataset2D(train_paths, sequence_length, prediction_length)\n",
    "    val_dataset = Dataset3D(val_paths, sequence_length, prediction_length)\n",
    "    test_dataset = Dataset3D(test_paths, sequence_length, prediction_length)\n",
    "    \n",
    "    # Create dataloaders\n",
    "    train_loader = DataLoader(train_dataset, batch_size=batch_size, shuffle=True, drop_last=drop_last)\n",
    "    val_loader = DataLoader(val_dataset, batch_size=batch_size, drop_last=drop_last)\n",
    "    test_loader = DataLoader(test_dataset, batch_size=batch_size, drop_last=drop_last)\n",
    "    \n",
    "    return train_loader, val_loader, test_loader"
   ]
  },
  {
   "cell_type": "markdown",
   "metadata": {},
   "source": [
    "2Plus1D Unet"
   ]
  },
  {
   "cell_type": "code",
   "execution_count": 10,
   "metadata": {},
   "outputs": [],
   "source": [
    "class DoubleConv2D(nn.Module):\n",
    "    def __init__(self, in_channels, out_channels, mid_channels=None):\n",
    "        super().__init__()\n",
    "        \n",
    "        if not mid_channels:\n",
    "            mid_channels = out_channels\n",
    "            \n",
    "        self.double_conv = nn.Sequential(\n",
    "            # First convolution\n",
    "            nn.Conv2d(\n",
    "                in_channels, \n",
    "                mid_channels,\n",
    "                kernel_size=3,\n",
    "                padding=1,\n",
    "                bias=False  # No bias when using batch norm\n",
    "            ),\n",
    "            nn.BatchNorm2d(mid_channels),\n",
    "            nn.ReLU(inplace=True),\n",
    "            \n",
    "            # Second convolution\n",
    "            nn.Conv2d(\n",
    "                mid_channels,\n",
    "                out_channels,\n",
    "                kernel_size=3,\n",
    "                padding=1,\n",
    "                bias=False  # No bias when using batch norm\n",
    "            ),\n",
    "            nn.BatchNorm2d(out_channels),\n",
    "            nn.ReLU(inplace=True)\n",
    "        )\n",
    "        \n",
    "        # Optional: Add residual connection if input and output channels match\n",
    "        self.use_residual = in_channels == out_channels\n",
    "        \n",
    "    def forward(self, x):\n",
    "        if self.use_residual:\n",
    "            return self.double_conv(x) + x\n",
    "        return self.double_conv(x)\n",
    "    \n",
    "class TemporalBlock(nn.Module):\n",
    "    def __init__(self, channels, temporal_kernel_size=3):\n",
    "        super().__init__()\n",
    "        \n",
    "        padding = temporal_kernel_size // 2\n",
    "        \n",
    "        self.temporal_conv = nn.Sequential(\n",
    "            # Depthwise temporal conv\n",
    "            nn.Conv1d(channels, channels,\n",
    "                     kernel_size=temporal_kernel_size,\n",
    "                     padding=padding,\n",
    "                     groups=channels),\n",
    "            nn.BatchNorm1d(channels),\n",
    "            nn.ReLU(inplace=True),\n",
    "            \n",
    "            # Point-wise conv\n",
    "            nn.Conv1d(channels, channels, kernel_size=1),\n",
    "            nn.BatchNorm1d(channels),\n",
    "            nn.ReLU(inplace=True)\n",
    "        )\n",
    "    \n",
    "    def forward(self, x):\n",
    "        # x shape: [B, C, T, H, W]\n",
    "        b, c, t, h, w = x.shape\n",
    "        \n",
    "        # Reshape for temporal convolution\n",
    "        x_temp = x.contiguous()  # Make memory contiguous\n",
    "        x_temp = x_temp.permute(0, 3, 4, 1, 2)  # [B, H, W, C, T]\n",
    "        x_temp = x_temp.reshape(b*h*w, c, t)\n",
    "        \n",
    "        # Apply temporal convolution\n",
    "        x_temp = self.temporal_conv(x_temp)\n",
    "        \n",
    "        # Reshape back\n",
    "        x_temp = x_temp.reshape(b, h, w, c, t)\n",
    "        x_temp = x_temp.permute(0, 3, 4, 1, 2)  # [B, C, T, H, W]\n",
    "        \n",
    "        return x_temp\n",
    "\n",
    "\n",
    "class UNet2DPlusTemporal(nn.Module):\n",
    "    def __init__(self, input_frames=None, output_frames=8, in_channels=1, base_filters=32):\n",
    "        super(UNet2DPlusTemporal, self).__init__()\n",
    "        \n",
    "        self.input_frames = input_frames\n",
    "        \n",
    "        # Update first encoder to accept in_channels instead of hardcoded 1\n",
    "        self.enc1 = DoubleConv2D(in_channels, base_filters)\n",
    "        self.pool1 = nn.MaxPool2d(2)\n",
    "        \n",
    "        self.enc2 = DoubleConv2D(base_filters, base_filters*2)\n",
    "        self.pool2 = nn.MaxPool2d(2)\n",
    "        \n",
    "        # Last encoder with temporal processing\n",
    "        self.enc3 = DoubleConv2D(base_filters*2, base_filters*4)\n",
    "        self.temporal_enc = TemporalBlock(\n",
    "            channels=base_filters*4,\n",
    "            temporal_kernel_size=3\n",
    "        )\n",
    "        self.pool3 = nn.MaxPool2d(2)\n",
    "        \n",
    "        # Bottleneck with temporal processing\n",
    "        self.bottleneck_spatial = DoubleConv2D(base_filters*4, base_filters*8)\n",
    "        self.temporal_bottleneck = TemporalBlock(\n",
    "            channels=base_filters*8,\n",
    "            temporal_kernel_size=3\n",
    "        )\n",
    "        \n",
    "        # Decoder Path\n",
    "        self.upconv3 = nn.ConvTranspose2d(base_filters*8, base_filters*4, \n",
    "                                         kernel_size=2, stride=2)\n",
    "        self.dec3 = DoubleConv2D(base_filters*8, base_filters*4)\n",
    "        \n",
    "        self.upconv2 = nn.ConvTranspose2d(base_filters*4, base_filters*2, \n",
    "                                         kernel_size=2, stride=2)\n",
    "        self.dec2 = DoubleConv2D(base_filters*4, base_filters*2)\n",
    "        \n",
    "        self.upconv1 = nn.ConvTranspose2d(base_filters*2, base_filters, \n",
    "                                         kernel_size=2, stride=2)\n",
    "        self.dec1 = DoubleConv2D(base_filters*2, base_filters)\n",
    "        \n",
    "        self.final_conv = nn.Conv2d(base_filters, output_frames, kernel_size=1)\n",
    "    \n",
    "    def forward(self, x):\n",
    "        # x shape: [batch, time, height, width]\n",
    "        b, t, c, h, w = x.shape\n",
    "        assert t == self.input_frames, f\"Expected {self.input_frames} frames, got {t}\"\n",
    "        \n",
    "        # Process each time step through initial spatial encoders\n",
    "        encoder_features = []\n",
    "        enc3_features = []\n",
    "        \n",
    "        for i in range(t):\n",
    "            curr_frame = x[:, i]  # [B, C, H, W] - removed unsqueeze since we already have channels\n",
    "            \n",
    "            # Initial encoder path\n",
    "            e1 = self.enc1(curr_frame)\n",
    "            p1 = self.pool1(e1)\n",
    "            \n",
    "            e2 = self.enc2(p1)\n",
    "            p2 = self.pool2(e2)\n",
    "            \n",
    "            # Store for skip connections\n",
    "            encoder_features.append((e1, e2))\n",
    "            \n",
    "            # Last encoder\n",
    "            e3 = self.enc3(p2)\n",
    "            enc3_features.append(e3)\n",
    "        \n",
    "        # Process enc3 features temporally\n",
    "        enc3_features = torch.stack(enc3_features, dim=2)  # [B, C, T, H, W]\n",
    "        enc3_processed = self.temporal_enc(enc3_features)\n",
    "        \n",
    "        # Pool spatially after temporal processing\n",
    "        b, c, t, h, w = enc3_processed.shape\n",
    "        enc3_pooled = enc3_processed.contiguous()\n",
    "        enc3_pooled = enc3_pooled.view(b*t, c, h, w)\n",
    "        enc3_pooled = self.pool3(enc3_pooled)\n",
    "        _, _, h_pooled, w_pooled = enc3_pooled.shape\n",
    "        enc3_pooled = enc3_pooled.view(b, c, t, h_pooled, w_pooled)\n",
    "        \n",
    "        # Bottleneck processing\n",
    "        bottle_features = []\n",
    "        for i in range(t):\n",
    "            curr_feat = enc3_pooled[:, :, i]  # [B, C, H, W]\n",
    "            bottle_feat = self.bottleneck_spatial(curr_feat)\n",
    "            bottle_features.append(bottle_feat)\n",
    "        \n",
    "        # Stack and apply temporal processing in bottleneck\n",
    "        bottle_features = torch.stack(bottle_features, dim=2)  # [B, C, T, H, W]\n",
    "        bottle_processed = self.temporal_bottleneck(bottle_features)\n",
    "        \n",
    "        # Take last temporal state for decoder\n",
    "        bottle_final = bottle_processed[:, :, -1]  # [B, C, H, W]\n",
    "        \n",
    "        # Decoder path (using last frame's encoder features)\n",
    "        e1, e2 = encoder_features[-1]\n",
    "        e3 = enc3_processed[:, :, -1]\n",
    "        \n",
    "        d3 = self.upconv3(bottle_final)\n",
    "        d3 = torch.cat([d3, e3], dim=1)\n",
    "        d3 = self.dec3(d3)\n",
    "        \n",
    "        d2 = self.upconv2(d3)\n",
    "        d2 = torch.cat([d2, e2], dim=1)\n",
    "        d2 = self.dec2(d2)\n",
    "        \n",
    "        d1 = self.upconv1(d2)\n",
    "        d1 = torch.cat([d1, e1], dim=1)\n",
    "        d1 = self.dec1(d1)\n",
    "        \n",
    "        return self.final_conv(d1) # [B, output_frames, H, W]"
   ]
  },
  {
   "cell_type": "code",
   "execution_count": 11,
   "metadata": {},
   "outputs": [
    {
     "ename": "ValueError",
     "evalue": "not enough values to unpack (expected 5, got 4)",
     "output_type": "error",
     "traceback": [
      "\u001b[0;31m---------------------------------------------------------------------------\u001b[0m",
      "\u001b[0;31mValueError\u001b[0m                                Traceback (most recent call last)",
      "Cell \u001b[0;32mIn[11], line 3\u001b[0m\n\u001b[1;32m      1\u001b[0m model \u001b[38;5;241m=\u001b[39m UNet2DPlusTemporal(input_frames\u001b[38;5;241m=\u001b[39m\u001b[38;5;241m8\u001b[39m)\u001b[38;5;241m.\u001b[39mto(device)\n\u001b[1;32m      2\u001b[0m x \u001b[38;5;241m=\u001b[39m torch\u001b[38;5;241m.\u001b[39mrandn(\u001b[38;5;241m2\u001b[39m, \u001b[38;5;241m8\u001b[39m, \u001b[38;5;241m256\u001b[39m, \u001b[38;5;241m256\u001b[39m)\u001b[38;5;241m.\u001b[39mto(device)\n\u001b[0;32m----> 3\u001b[0m out \u001b[38;5;241m=\u001b[39m \u001b[43mmodel\u001b[49m\u001b[43m(\u001b[49m\u001b[43mx\u001b[49m\u001b[43m)\u001b[49m\n\u001b[1;32m      4\u001b[0m out\u001b[38;5;241m.\u001b[39mshape\n",
      "File \u001b[0;32m~/miniconda3/envs/ct/lib/python3.11/site-packages/torch/nn/modules/module.py:1527\u001b[0m, in \u001b[0;36mModule._wrapped_call_impl\u001b[0;34m(self, *args, **kwargs)\u001b[0m\n\u001b[1;32m   1525\u001b[0m     \u001b[38;5;28;01mreturn\u001b[39;00m \u001b[38;5;28mself\u001b[39m\u001b[38;5;241m.\u001b[39m_compiled_call_impl(\u001b[38;5;241m*\u001b[39margs, \u001b[38;5;241m*\u001b[39m\u001b[38;5;241m*\u001b[39mkwargs)  \u001b[38;5;66;03m# type: ignore[misc]\u001b[39;00m\n\u001b[1;32m   1526\u001b[0m \u001b[38;5;28;01melse\u001b[39;00m:\n\u001b[0;32m-> 1527\u001b[0m     \u001b[38;5;28;01mreturn\u001b[39;00m \u001b[38;5;28;43mself\u001b[39;49m\u001b[38;5;241;43m.\u001b[39;49m\u001b[43m_call_impl\u001b[49m\u001b[43m(\u001b[49m\u001b[38;5;241;43m*\u001b[39;49m\u001b[43margs\u001b[49m\u001b[43m,\u001b[49m\u001b[43m \u001b[49m\u001b[38;5;241;43m*\u001b[39;49m\u001b[38;5;241;43m*\u001b[39;49m\u001b[43mkwargs\u001b[49m\u001b[43m)\u001b[49m\n",
      "File \u001b[0;32m~/miniconda3/envs/ct/lib/python3.11/site-packages/torch/nn/modules/module.py:1536\u001b[0m, in \u001b[0;36mModule._call_impl\u001b[0;34m(self, *args, **kwargs)\u001b[0m\n\u001b[1;32m   1531\u001b[0m \u001b[38;5;66;03m# If we don't have any hooks, we want to skip the rest of the logic in\u001b[39;00m\n\u001b[1;32m   1532\u001b[0m \u001b[38;5;66;03m# this function, and just call forward.\u001b[39;00m\n\u001b[1;32m   1533\u001b[0m \u001b[38;5;28;01mif\u001b[39;00m \u001b[38;5;129;01mnot\u001b[39;00m (\u001b[38;5;28mself\u001b[39m\u001b[38;5;241m.\u001b[39m_backward_hooks \u001b[38;5;129;01mor\u001b[39;00m \u001b[38;5;28mself\u001b[39m\u001b[38;5;241m.\u001b[39m_backward_pre_hooks \u001b[38;5;129;01mor\u001b[39;00m \u001b[38;5;28mself\u001b[39m\u001b[38;5;241m.\u001b[39m_forward_hooks \u001b[38;5;129;01mor\u001b[39;00m \u001b[38;5;28mself\u001b[39m\u001b[38;5;241m.\u001b[39m_forward_pre_hooks\n\u001b[1;32m   1534\u001b[0m         \u001b[38;5;129;01mor\u001b[39;00m _global_backward_pre_hooks \u001b[38;5;129;01mor\u001b[39;00m _global_backward_hooks\n\u001b[1;32m   1535\u001b[0m         \u001b[38;5;129;01mor\u001b[39;00m _global_forward_hooks \u001b[38;5;129;01mor\u001b[39;00m _global_forward_pre_hooks):\n\u001b[0;32m-> 1536\u001b[0m     \u001b[38;5;28;01mreturn\u001b[39;00m \u001b[43mforward_call\u001b[49m\u001b[43m(\u001b[49m\u001b[38;5;241;43m*\u001b[39;49m\u001b[43margs\u001b[49m\u001b[43m,\u001b[49m\u001b[43m \u001b[49m\u001b[38;5;241;43m*\u001b[39;49m\u001b[38;5;241;43m*\u001b[39;49m\u001b[43mkwargs\u001b[49m\u001b[43m)\u001b[49m\n\u001b[1;32m   1538\u001b[0m \u001b[38;5;28;01mtry\u001b[39;00m:\n\u001b[1;32m   1539\u001b[0m     result \u001b[38;5;241m=\u001b[39m \u001b[38;5;28;01mNone\u001b[39;00m\n",
      "Cell \u001b[0;32mIn[10], line 125\u001b[0m, in \u001b[0;36mUNet2DPlusTemporal.forward\u001b[0;34m(self, x)\u001b[0m\n\u001b[1;32m    123\u001b[0m \u001b[38;5;28;01mdef\u001b[39;00m \u001b[38;5;21mforward\u001b[39m(\u001b[38;5;28mself\u001b[39m, x):\n\u001b[1;32m    124\u001b[0m     \u001b[38;5;66;03m# x shape: [batch, time, height, width]\u001b[39;00m\n\u001b[0;32m--> 125\u001b[0m     b, t, c, h, w \u001b[38;5;241m=\u001b[39m x\u001b[38;5;241m.\u001b[39mshape\n\u001b[1;32m    126\u001b[0m     \u001b[38;5;28;01massert\u001b[39;00m t \u001b[38;5;241m==\u001b[39m \u001b[38;5;28mself\u001b[39m\u001b[38;5;241m.\u001b[39minput_frames, \u001b[38;5;124mf\u001b[39m\u001b[38;5;124m\"\u001b[39m\u001b[38;5;124mExpected \u001b[39m\u001b[38;5;132;01m{\u001b[39;00m\u001b[38;5;28mself\u001b[39m\u001b[38;5;241m.\u001b[39minput_frames\u001b[38;5;132;01m}\u001b[39;00m\u001b[38;5;124m frames, got \u001b[39m\u001b[38;5;132;01m{\u001b[39;00mt\u001b[38;5;132;01m}\u001b[39;00m\u001b[38;5;124m\"\u001b[39m\n\u001b[1;32m    128\u001b[0m     \u001b[38;5;66;03m# Process each time step through initial spatial encoders\u001b[39;00m\n",
      "\u001b[0;31mValueError\u001b[0m: not enough values to unpack (expected 5, got 4)"
     ]
    }
   ],
   "source": [
    "model = UNet2DPlusTemporal(input_frames=8).to(device)\n",
    "x = torch.randn(2, 8, 256, 256).to(device)\n",
    "out = model(x)\n",
    "out.shape"
   ]
  },
  {
   "cell_type": "code",
   "execution_count": 18,
   "metadata": {},
   "outputs": [],
   "source": [
    "\n",
    "class Pl_Model(pl.LightningModule):\n",
    "    def __init__(\n",
    "        self,\n",
    "        passed_model: nn.Module,\n",
    "        config: Dict[str, Any],\n",
    "    ):\n",
    "        super(Pl_Model, self).__init__()\n",
    "        self.passed_model = passed_model\n",
    "        self.config = config\n",
    "\n",
    "        #speicher alle parameter ab\n",
    "        self.save_hyperparameters(ignore=[\"passed_model\"])\n",
    "\n",
    "        \n",
    "        # Setup training components\n",
    "        self.mse_criterion = nn.MSELoss()\n",
    "        self.huber_criterion = nn.HuberLoss(delta=1.0)\n",
    "        \n",
    "\n",
    "    def forward(self, x):\n",
    "        x = self.passed_model(x)\n",
    "        return x\n",
    "\n",
    "    def configure_optimizers(self):\n",
    "        \"\"\"Sets the Optimizer for the Model\"\"\"\n",
    "        optimizer = optim.Adam(\n",
    "            self.parameters(), \n",
    "            lr=self.config['learning_rate'],\n",
    "        )\n",
    "        return [optimizer]\n",
    "\n",
    "    def _calculate_loss(self, batch, mode=\"train\"):\n",
    "        \"\"\"Calculates the loss for a batch in different modes (training, validation, testing)\"\"\"\n",
    "        inputs, targets = batch\n",
    "        #to device\n",
    "        #inputs = inputs.to(device)\n",
    "        #targets = targets.to(device)\n",
    "        if mode==\"val\" or mode==\"test\":\n",
    "            B, T, C, D, H, W = targets.shape\n",
    "            outputs = torch.zeros_like(targets)\n",
    "            # account for added depth adimension in val and test sets\n",
    "            for h in range(D):\n",
    "                outputs[:, :, :, h] = self.forward(input[:, :, :, h]).unsqueeze(2)\n",
    "        else:\n",
    "            outputs = self.forward(inputs)\n",
    "        mse_loss = self.mse_criterion(outputs, targets)\n",
    "        huber_loss = self.huber_criterion(outputs, targets)\n",
    "        total_loss = mse_loss + 0.5 * huber_loss\n",
    "        #forward pass\n",
    "        # mse_loss = 0.0\n",
    "        # huber_loss = 0.0\n",
    "        # total_loss = 0.0\n",
    "\n",
    "        # for t in range(self.config[\"output_frames\"]):\n",
    "        #     outputs = self.forward(inputs)\n",
    "            \n",
    "        #     #calcualte losses\n",
    "        #     mse_loss_ = self.mse_criterion(outputs, targets[:, t, :, :].unsqueeze(1))\n",
    "        #     huber_loss_ = self.huber_criterion(outputs, targets[:, t, :, :].unsqueeze(1))\n",
    "        #     total_loss += mse_loss_ + 0.5 * huber_loss_\n",
    "        #     mse_loss += mse_loss_.item()\n",
    "        #     huber_loss += huber_loss_.item()\n",
    "            \n",
    "        #     inputs = torch.cat([inputs[:, 1:, :, :], outputs], dim=1)       \n",
    "\n",
    "        #logging\n",
    "        self.log(f\"{mode}_mse_loss\", mse_loss)\n",
    "        self.log(f\"{mode}_huber_loss\", huber_loss)\n",
    "        self.log(f\"{mode}_total_loss\", total_loss)\n",
    "\n",
    "        return total_loss, mse_loss, huber_loss\n",
    "\n",
    "    def training_step(self, batch, batch_idx):\n",
    "        loss, _, _ = self._calculate_loss(batch, mode=\"train\")\n",
    "        return loss\n",
    "\n",
    "    def validation_step(self, batch, batch_idx):\n",
    "        _ = self._calculate_loss(batch, mode=\"val\")\n",
    "\n",
    "    def test_step(self, batch, batch_idx):\n",
    "        _ = self._calculate_loss(batch, mode=\"test\")\n",
    "\n",
    "    # def check_losses(self, loader, mode, use_wandb=False):\n",
    "    #     mse_loss = 0.0\n",
    "    #     huber_loss = 0.0\n",
    "    #     total_loss = 0.0\n",
    "    #     for inputs, targets in loader:\n",
    "    #         for t in range(self.config[\"output_frames\"]):\n",
    "    #             mse_loss_ = self.mse_criterion(inputs[:, -1, :, :, :].unsqueeze(1), targets[:, t, :, :, :].unsqueeze(1))\n",
    "    #             huber_loss_ = self.huber_criterion(inputs[:, -1, :, :, :].unsqueeze(1), targets[:, t, :, :, :].unsqueeze(1))\n",
    "    #             total_loss_ = mse_loss_ + 0.5 * huber_loss_   \n",
    "        \n",
    "    #             mse_loss += mse_loss_.item()\n",
    "    #             huber_loss += huber_loss_.item()\n",
    "    #             total_loss += total_loss_.item()\n",
    "    #     mse_loss = mse_loss/len(loader)\n",
    "    #     huber_loss = huber_loss/len(loader)\n",
    "    #     total_loss = total_loss/len(loader)\n",
    "    \n",
    "    #     if use_wandb:\n",
    "    #         self.log(f\"Checked_{mode}_mse_loss\", mse_loss)\n",
    "    #         self.log(f\"Checked_{mode}_mse_loss\", huber_loss)\n",
    "    #         self.log(f\"Checked_{mode}_mse_loss\", total_loss)\n",
    "        \n",
    "    #     return mse_loss, huber_loss, total_loss\n",
    "        \n",
    "    def log_predictions(self):\n",
    "        \"\"\"Log example predictions to wandb\"\"\"\n",
    "        #needs to be added to other method\n",
    "        if epoch % self.config['viz_interval'] == 0:\n",
    "                self.log_predictions()\n",
    "        #but this whole method needs to be rewritten\n",
    "        self.model.eval()\n",
    "        with torch.no_grad():\n",
    "            # Get a batch of validation data\n",
    "            data, target = next(iter(self.val_loader))\n",
    "            data = data.to(self.device)\n",
    "            target = target.to(self.device)\n",
    "            \n",
    "            # Generate predictions\n",
    "            output = self.model(data)\n",
    "            \n",
    "            # Log images\n",
    "            wandb.log({\n",
    "                \"predictions\": wandb.Image(output[0, 0].cpu()),\n",
    "                \"targets\": wandb.Image(target[0, 0].cpu()),\n",
    "                \"input_sequence\": [wandb.Image(data[0, i].cpu()) for i in range(data.shape[1])]\n",
    "            })"
   ]
  },
  {
   "cell_type": "code",
   "execution_count": null,
   "metadata": {},
   "outputs": [],
   "source": []
  },
  {
   "cell_type": "code",
   "execution_count": 20,
   "metadata": {},
   "outputs": [
    {
     "name": "stdout",
     "output_type": "stream",
     "text": [
      "torch.Size([1, 8, 1, 16, 256, 256])\n",
      "torch.Size([1, 8, 1, 16, 256, 256])\n"
     ]
    },
    {
     "name": "stderr",
     "output_type": "stream",
     "text": [
      "/Users/simonma/miniconda3/envs/ct/lib/python3.11/site-packages/pytorch_lightning/core/module.py:441: You are trying to `self.log()` but the `self.trainer` reference is not registered on the model yet. This is most likely because the model hasn't been passed to the `Trainer`\n"
     ]
    }
   ],
   "source": [
    "config = {\n",
    "    #for the dataloaders\n",
    "    'batch_size': 1,\n",
    "    'learning_rate': 1e-4,\n",
    "    \"num_workers\": 4,#0, wenn die gpu nicht benutzt wird\n",
    "    \"pin_memory\": True,#False, wenn die gpu nicht benutzt wird\n",
    "    \"drop_last\": False,\n",
    "    'epochs': 30,\n",
    "    #'log_interval': 20,\n",
    "    #'viz_interval': 1,\n",
    "    'run_name': '2D-UNet+_temp_v3',\n",
    "    'input_frames': 8,\n",
    "    \"output_frames\": 8,\n",
    "    'base_filters': 32\n",
    "}\n",
    "\n",
    "# Initialize model\n",
    "model = UNet2DPlusTemporal(\n",
    "    input_frames=config['input_frames'],\n",
    "    base_filters=config['base_filters'],\n",
    ")\n",
    "\n",
    "# Get data loaders\n",
    "train_loader, val_loader, test_loader = get_data_loaders_2D_pred(\n",
    "    batch_size=config['batch_size'],\n",
    "    num_workers=config[\"num_workers\"],\n",
    "    pin_memory=config[\"pin_memory\"],\n",
    "    drop_last=config[\"drop_last\"],\n",
    "    sequence_length=config[\"input_frames\"], \n",
    "    prediction_length=config[\"output_frames\"],\n",
    ")\n",
    "\n",
    "wandb_logger = WandbLogger(project=\"perfusion-ct-prediction\", name=config[\"run_name\"])\n",
    "\n",
    "# Initialize pl_model\n",
    "pl_model = Pl_Model(\n",
    "    passed_model=model,\n",
    "    config=config,\n",
    ")\n",
    "# trainer = pl.Trainer()\n",
    "# trainer.test(pl_model, test_loader)\n",
    "for batch_idx, (input, target) in enumerate(test_loader):\n",
    "    print(input.shape)\n",
    "    print(target.shape)\n",
    "    pl_model.test_step((input, target), batch_idx)\n",
    "    break\n",
    "\n",
    "# # Initialize trainer\n",
    "# trainer = pl.Trainer(\n",
    "#     logger=wandb_logger,\n",
    "#     accelerator=\"gpu\",\n",
    "#     devices= [0] if torch.cuda.is_available() else None,\n",
    "#     max_epochs=config[\"epochs\"],\n",
    "# )\n",
    "\n",
    "# wandb_logger.watch(pl_model)\n"
   ]
  },
  {
   "cell_type": "code",
   "execution_count": 62,
   "metadata": {
    "scrolled": true
   },
   "outputs": [
    {
     "name": "stderr",
     "output_type": "stream",
     "text": [
      "LOCAL_RANK: 0 - CUDA_VISIBLE_DEVICES: [0]\n",
      "\n",
      "  | Name         | Type               | Params | Mode \n",
      "------------------------------------------------------------\n",
      "0 | passed_model | UNet2DPlusTemporal | 2.0 M  | train\n",
      "1 | criterion    | MSELoss            | 0      | train\n",
      "2 | huber_loss   | HuberLoss          | 0      | train\n",
      "------------------------------------------------------------\n",
      "2.0 M     Trainable params\n",
      "0         Non-trainable params\n",
      "2.0 M     Total params\n",
      "8.047     Total estimated model params size (MB)\n",
      "82        Modules in train mode\n",
      "0         Modules in eval mode\n"
     ]
    },
    {
     "data": {
      "application/vnd.jupyter.widget-view+json": {
       "model_id": "dfdde5ce1b18421584f1fc3f9c1bc668",
       "version_major": 2,
       "version_minor": 0
      },
      "text/plain": [
       "Sanity Checking: |                                                                                            …"
      ]
     },
     "metadata": {},
     "output_type": "display_data"
    },
    {
     "name": "stderr",
     "output_type": "stream",
     "text": [
      "/usr/local/lib/python3.8/dist-packages/pytorch_lightning/trainer/connectors/data_connector.py:424: The 'train_dataloader' does not have many workers which may be a bottleneck. Consider increasing the value of the `num_workers` argument` to `num_workers=255` in the `DataLoader` to improve performance.\n"
     ]
    },
    {
     "data": {
      "application/vnd.jupyter.widget-view+json": {
       "model_id": "4b021dfd32db4966a6f922a28fd8b2a9",
       "version_major": 2,
       "version_minor": 0
      },
      "text/plain": [
       "Training: |                                                                                                   …"
      ]
     },
     "metadata": {},
     "output_type": "display_data"
    },
    {
     "data": {
      "application/vnd.jupyter.widget-view+json": {
       "model_id": "8bdb4f45bc9c4a02a0c438f2adb6ba21",
       "version_major": 2,
       "version_minor": 0
      },
      "text/plain": [
       "Validation: |                                                                                                 …"
      ]
     },
     "metadata": {},
     "output_type": "display_data"
    },
    {
     "data": {
      "application/vnd.jupyter.widget-view+json": {
       "model_id": "42c83020f13e4ceba581031bf66032ea",
       "version_major": 2,
       "version_minor": 0
      },
      "text/plain": [
       "Validation: |                                                                                                 …"
      ]
     },
     "metadata": {},
     "output_type": "display_data"
    },
    {
     "data": {
      "application/vnd.jupyter.widget-view+json": {
       "model_id": "841b8033cbb84804bc7a594e2833f5fa",
       "version_major": 2,
       "version_minor": 0
      },
      "text/plain": [
       "Validation: |                                                                                                 …"
      ]
     },
     "metadata": {},
     "output_type": "display_data"
    },
    {
     "data": {
      "application/vnd.jupyter.widget-view+json": {
       "model_id": "759a25de726f414b8594db3823d257f9",
       "version_major": 2,
       "version_minor": 0
      },
      "text/plain": [
       "Validation: |                                                                                                 …"
      ]
     },
     "metadata": {},
     "output_type": "display_data"
    },
    {
     "data": {
      "application/vnd.jupyter.widget-view+json": {
       "model_id": "55dde3d31b9e498395f71d17450c3b29",
       "version_major": 2,
       "version_minor": 0
      },
      "text/plain": [
       "Validation: |                                                                                                 …"
      ]
     },
     "metadata": {},
     "output_type": "display_data"
    },
    {
     "data": {
      "application/vnd.jupyter.widget-view+json": {
       "model_id": "619f651e465a48c7ad1db469066a126e",
       "version_major": 2,
       "version_minor": 0
      },
      "text/plain": [
       "Validation: |                                                                                                 …"
      ]
     },
     "metadata": {},
     "output_type": "display_data"
    },
    {
     "data": {
      "application/vnd.jupyter.widget-view+json": {
       "model_id": "c64fb0edc5c24849bf7b68b46ebc704d",
       "version_major": 2,
       "version_minor": 0
      },
      "text/plain": [
       "Validation: |                                                                                                 …"
      ]
     },
     "metadata": {},
     "output_type": "display_data"
    },
    {
     "data": {
      "application/vnd.jupyter.widget-view+json": {
       "model_id": "c4488ccd88464cbba966e54cb1101ff9",
       "version_major": 2,
       "version_minor": 0
      },
      "text/plain": [
       "Validation: |                                                                                                 …"
      ]
     },
     "metadata": {},
     "output_type": "display_data"
    },
    {
     "data": {
      "application/vnd.jupyter.widget-view+json": {
       "model_id": "e7192e9949b045d4bf882089eebaf494",
       "version_major": 2,
       "version_minor": 0
      },
      "text/plain": [
       "Validation: |                                                                                                 …"
      ]
     },
     "metadata": {},
     "output_type": "display_data"
    },
    {
     "data": {
      "application/vnd.jupyter.widget-view+json": {
       "model_id": "bd32d5846be6416c8703609b0c7b8ed7",
       "version_major": 2,
       "version_minor": 0
      },
      "text/plain": [
       "Validation: |                                                                                                 …"
      ]
     },
     "metadata": {},
     "output_type": "display_data"
    },
    {
     "data": {
      "application/vnd.jupyter.widget-view+json": {
       "model_id": "a858f973f73e4149bd247107066388b3",
       "version_major": 2,
       "version_minor": 0
      },
      "text/plain": [
       "Validation: |                                                                                                 …"
      ]
     },
     "metadata": {},
     "output_type": "display_data"
    },
    {
     "data": {
      "application/vnd.jupyter.widget-view+json": {
       "model_id": "9678bed9358c41eb91e25f9702102ca2",
       "version_major": 2,
       "version_minor": 0
      },
      "text/plain": [
       "Validation: |                                                                                                 …"
      ]
     },
     "metadata": {},
     "output_type": "display_data"
    },
    {
     "data": {
      "application/vnd.jupyter.widget-view+json": {
       "model_id": "e0754baa165845a59ddae5ced155e0b0",
       "version_major": 2,
       "version_minor": 0
      },
      "text/plain": [
       "Validation: |                                                                                                 …"
      ]
     },
     "metadata": {},
     "output_type": "display_data"
    },
    {
     "data": {
      "application/vnd.jupyter.widget-view+json": {
       "model_id": "02c416ca562744ebb33f78b2288c0b33",
       "version_major": 2,
       "version_minor": 0
      },
      "text/plain": [
       "Validation: |                                                                                                 …"
      ]
     },
     "metadata": {},
     "output_type": "display_data"
    },
    {
     "data": {
      "application/vnd.jupyter.widget-view+json": {
       "model_id": "e311b3e0dbe04ce49b201a50fc81ffcd",
       "version_major": 2,
       "version_minor": 0
      },
      "text/plain": [
       "Validation: |                                                                                                 …"
      ]
     },
     "metadata": {},
     "output_type": "display_data"
    },
    {
     "data": {
      "application/vnd.jupyter.widget-view+json": {
       "model_id": "05a21348db27417698f6ec10c592db8e",
       "version_major": 2,
       "version_minor": 0
      },
      "text/plain": [
       "Validation: |                                                                                                 …"
      ]
     },
     "metadata": {},
     "output_type": "display_data"
    },
    {
     "data": {
      "application/vnd.jupyter.widget-view+json": {
       "model_id": "711002988bad463bb16f4cc8db6f5dc3",
       "version_major": 2,
       "version_minor": 0
      },
      "text/plain": [
       "Validation: |                                                                                                 …"
      ]
     },
     "metadata": {},
     "output_type": "display_data"
    },
    {
     "data": {
      "application/vnd.jupyter.widget-view+json": {
       "model_id": "74f8cf13537549e9be3fdcc9eb10a3dc",
       "version_major": 2,
       "version_minor": 0
      },
      "text/plain": [
       "Validation: |                                                                                                 …"
      ]
     },
     "metadata": {},
     "output_type": "display_data"
    },
    {
     "data": {
      "application/vnd.jupyter.widget-view+json": {
       "model_id": "c851a4755caa467aaabf695399b437e2",
       "version_major": 2,
       "version_minor": 0
      },
      "text/plain": [
       "Validation: |                                                                                                 …"
      ]
     },
     "metadata": {},
     "output_type": "display_data"
    },
    {
     "data": {
      "application/vnd.jupyter.widget-view+json": {
       "model_id": "0431a50ec4794509b184c3ca4bd562f9",
       "version_major": 2,
       "version_minor": 0
      },
      "text/plain": [
       "Validation: |                                                                                                 …"
      ]
     },
     "metadata": {},
     "output_type": "display_data"
    },
    {
     "data": {
      "application/vnd.jupyter.widget-view+json": {
       "model_id": "5e478b10266545c593a8334169d98b31",
       "version_major": 2,
       "version_minor": 0
      },
      "text/plain": [
       "Validation: |                                                                                                 …"
      ]
     },
     "metadata": {},
     "output_type": "display_data"
    },
    {
     "data": {
      "application/vnd.jupyter.widget-view+json": {
       "model_id": "2a8d3c1af10e422abc48fc4ad579d3cb",
       "version_major": 2,
       "version_minor": 0
      },
      "text/plain": [
       "Validation: |                                                                                                 …"
      ]
     },
     "metadata": {},
     "output_type": "display_data"
    },
    {
     "data": {
      "application/vnd.jupyter.widget-view+json": {
       "model_id": "a775dfa48cce426781a5b15ab6a5db66",
       "version_major": 2,
       "version_minor": 0
      },
      "text/plain": [
       "Validation: |                                                                                                 …"
      ]
     },
     "metadata": {},
     "output_type": "display_data"
    },
    {
     "data": {
      "application/vnd.jupyter.widget-view+json": {
       "model_id": "205cfa05a61a4a0f9730e32decfe4b4c",
       "version_major": 2,
       "version_minor": 0
      },
      "text/plain": [
       "Validation: |                                                                                                 …"
      ]
     },
     "metadata": {},
     "output_type": "display_data"
    },
    {
     "data": {
      "application/vnd.jupyter.widget-view+json": {
       "model_id": "0acfbaf6235f44869b745c15aba5cd80",
       "version_major": 2,
       "version_minor": 0
      },
      "text/plain": [
       "Validation: |                                                                                                 …"
      ]
     },
     "metadata": {},
     "output_type": "display_data"
    },
    {
     "data": {
      "application/vnd.jupyter.widget-view+json": {
       "model_id": "4d920a227d964e28be76265de3bd2804",
       "version_major": 2,
       "version_minor": 0
      },
      "text/plain": [
       "Validation: |                                                                                                 …"
      ]
     },
     "metadata": {},
     "output_type": "display_data"
    },
    {
     "data": {
      "application/vnd.jupyter.widget-view+json": {
       "model_id": "bc9d0ec4fe324afaa2d04e72ac1f8208",
       "version_major": 2,
       "version_minor": 0
      },
      "text/plain": [
       "Validation: |                                                                                                 …"
      ]
     },
     "metadata": {},
     "output_type": "display_data"
    },
    {
     "data": {
      "application/vnd.jupyter.widget-view+json": {
       "model_id": "0cc9314cc8e143c795e23537fedb8698",
       "version_major": 2,
       "version_minor": 0
      },
      "text/plain": [
       "Validation: |                                                                                                 …"
      ]
     },
     "metadata": {},
     "output_type": "display_data"
    },
    {
     "data": {
      "application/vnd.jupyter.widget-view+json": {
       "model_id": "350367f938b346889707fdbf03159c9b",
       "version_major": 2,
       "version_minor": 0
      },
      "text/plain": [
       "Validation: |                                                                                                 …"
      ]
     },
     "metadata": {},
     "output_type": "display_data"
    },
    {
     "data": {
      "application/vnd.jupyter.widget-view+json": {
       "model_id": "6fb12f7766e14412a48a2afdcf8e1d57",
       "version_major": 2,
       "version_minor": 0
      },
      "text/plain": [
       "Validation: |                                                                                                 …"
      ]
     },
     "metadata": {},
     "output_type": "display_data"
    },
    {
     "name": "stderr",
     "output_type": "stream",
     "text": [
      "`Trainer.fit` stopped: `max_epochs=30` reached.\n"
     ]
    }
   ],
   "source": [
    "\n",
    "trainer.fit(\n",
    "    pl_model,\n",
    "    train_dataloaders=train_loader,\n",
    "    val_dataloaders=val_loader,\n",
    ")\n",
    "\n",
    "#check the losses \"to beat\"\n",
    "pl_model.check_losses(train_loader, mode=\"train\", use_wandb=True)\n",
    "pl_model.check_losses(val_loader, mode=\"val\", use_wandb=True)\n",
    "pl_model.check_losses(test_loader, mode=\"test\", use_wandb=True)"
   ]
  },
  {
   "cell_type": "code",
   "execution_count": 63,
   "metadata": {},
   "outputs": [
    {
     "name": "stderr",
     "output_type": "stream",
     "text": [
      "/usr/local/lib/python3.8/dist-packages/pytorch_lightning/trainer/connectors/checkpoint_connector.py:145: `.validate(ckpt_path=None)` was called without a model. The best model of the previous `fit` call will be used. You can pass `.validate(ckpt_path='best')` to use the best model or `.validate(ckpt_path='last')` to use the last model. If you pass a value, this warning will be silenced.\n",
      "Restoring states from the checkpoint path at ./perfusion-ct-prediction/mpw4rbc7/checkpoints/epoch=29-step=2880.ckpt\n",
      "LOCAL_RANK: 0 - CUDA_VISIBLE_DEVICES: [0]\n",
      "Loaded model weights from the checkpoint at ./perfusion-ct-prediction/mpw4rbc7/checkpoints/epoch=29-step=2880.ckpt\n"
     ]
    },
    {
     "data": {
      "application/vnd.jupyter.widget-view+json": {
       "model_id": "0c548e099115413d92b0a177ae263989",
       "version_major": 2,
       "version_minor": 0
      },
      "text/plain": [
       "Validation: |                                                                                                 …"
      ]
     },
     "metadata": {},
     "output_type": "display_data"
    },
    {
     "name": "stderr",
     "output_type": "stream",
     "text": [
      "/usr/local/lib/python3.8/dist-packages/pytorch_lightning/trainer/connectors/checkpoint_connector.py:145: `.test(ckpt_path=None)` was called without a model. The best model of the previous `fit` call will be used. You can pass `.test(ckpt_path='best')` to use the best model or `.test(ckpt_path='last')` to use the last model. If you pass a value, this warning will be silenced.\n",
      "Restoring states from the checkpoint path at ./perfusion-ct-prediction/mpw4rbc7/checkpoints/epoch=29-step=2880.ckpt\n",
      "LOCAL_RANK: 0 - CUDA_VISIBLE_DEVICES: [0]\n",
      "Loaded model weights from the checkpoint at ./perfusion-ct-prediction/mpw4rbc7/checkpoints/epoch=29-step=2880.ckpt\n"
     ]
    },
    {
     "name": "stdout",
     "output_type": "stream",
     "text": [
      "────────────────────────────────────────────────────────────────────────────────────────────────────────────────────────\n",
      "     Validate metric           DataLoader 0\n",
      "────────────────────────────────────────────────────────────────────────────────────────────────────────────────────────\n",
      "     val_huber_loss         0.02376500517129898\n",
      "      val_mse_loss          0.04780226945877075\n",
      "     val_total_loss         0.05968477204442024\n",
      "────────────────────────────────────────────────────────────────────────────────────────────────────────────────────────\n"
     ]
    },
    {
     "name": "stderr",
     "output_type": "stream",
     "text": [
      "/usr/local/lib/python3.8/dist-packages/pytorch_lightning/trainer/connectors/data_connector.py:424: The 'test_dataloader' does not have many workers which may be a bottleneck. Consider increasing the value of the `num_workers` argument` to `num_workers=255` in the `DataLoader` to improve performance.\n"
     ]
    },
    {
     "data": {
      "application/vnd.jupyter.widget-view+json": {
       "model_id": "620297f1d46d4dbcb4076c409304170e",
       "version_major": 2,
       "version_minor": 0
      },
      "text/plain": [
       "Testing: |                                                                                                    …"
      ]
     },
     "metadata": {},
     "output_type": "display_data"
    },
    {
     "name": "stdout",
     "output_type": "stream",
     "text": [
      "────────────────────────────────────────────────────────────────────────────────────────────────────────────────────────\n",
      "       Test metric             DataLoader 0\n",
      "────────────────────────────────────────────────────────────────────────────────────────────────────────────────────────\n",
      "     test_huber_loss       0.011898771859705448\n",
      "      test_mse_loss        0.023859838023781776\n",
      "     test_total_loss       0.029809223487973213\n",
      "────────────────────────────────────────────────────────────────────────────────────────────────────────────────────────\n"
     ]
    }
   ],
   "source": [
    "val_results = trainer.validate(dataloaders=val_loader)\n",
    "test_results = trainer.test(dataloaders=test_loader)"
   ]
  },
  {
   "cell_type": "code",
   "execution_count": null,
   "metadata": {},
   "outputs": [],
   "source": [
    "save_load_path = f\"../ModelWeights/{config[\"run_name\"]}.ckpt\"\n",
    "trainer.save_checkpoint(save_load_path)"
   ]
  }
 ],
 "metadata": {
  "kernelspec": {
   "display_name": "ct",
   "language": "python",
   "name": "python3"
  },
  "language_info": {
   "codemirror_mode": {
    "name": "ipython",
    "version": 3
   },
   "file_extension": ".py",
   "mimetype": "text/x-python",
   "name": "python",
   "nbconvert_exporter": "python",
   "pygments_lexer": "ipython3",
   "version": "3.11.9"
  }
 },
 "nbformat": 4,
 "nbformat_minor": 4
}
