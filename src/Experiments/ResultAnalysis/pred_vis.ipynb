{
 "cells": [
  {
   "cell_type": "code",
   "execution_count": 32,
   "id": "d4c5cb77-becc-401f-a269-f519a5f1d818",
   "metadata": {},
   "outputs": [],
   "source": [
    "import math\n",
    "import os\n",
    "import random\n",
    "from typing import Any, Dict\n",
    "import matplotlib.pyplot as plt\n",
    "import numpy as np\n",
    "import pandas as pd\n",
    "\n",
    "from ipywidgets import IntSlider, interact"
   ]
  },
  {
   "cell_type": "code",
   "execution_count": 33,
   "id": "b1c1c26e-2692-4117-b576-a5cf4a62de03",
   "metadata": {},
   "outputs": [],
   "source": [
    "def multi_vol_seq_interactive(volume_seqs, titles=None):\n",
    "    \"\"\"\n",
    "    Interactive plot of multiple volume sequences using ipywidgets\n",
    "    \n",
    "    Parameters:\n",
    "    - volume_seqs: List of 4D volume sequences to display\n",
    "    - titles: Optional list of titles for each sequence\n",
    "    \"\"\"\n",
    "    print(len(volume_seqs))\n",
    "    if titles is None:\n",
    "        titles = [f\"Volume {i+1}\" for i in range(len(volume_seqs))]\n",
    "        \n",
    "    num_volumes = len(volume_seqs)\n",
    "    nrows = int(num_volumes ** 0.5)\n",
    "    ncols = (num_volumes + nrows - 1) // nrows\n",
    "    \n",
    "    # Calculate global min/max for consistent scaling\n",
    "    global_min = min(np.min(vol) for vol in volume_seqs)\n",
    "    global_max = max(np.max(vol) for vol in volume_seqs)\n",
    "    \n",
    "    def plot_volumes(time_idx, slice_idx):\n",
    "        fig, axes = plt.subplots(nrows, ncols, \n",
    "                                figsize=(5*ncols, 5*nrows),\n",
    "                                squeeze=True)\n",
    "        if nrows == 1:\n",
    "            if ncols == 1:\n",
    "                axes = [[axes]]\n",
    "            else:\n",
    "                axes = [axes]\n",
    "                \n",
    "        for i, (volume_seq, title) in enumerate(zip(volume_seqs, titles)):\n",
    "            row, col = i // ncols, i % ncols\n",
    "            ax = axes[row][col]\n",
    "            \n",
    "            t = min(time_idx, len(volume_seq) - 1)\n",
    "            s = min(slice_idx, len(volume_seq[t]) - 1)\n",
    "            \n",
    "            im = ax.imshow(volume_seq[t][s], cmap='magma', \n",
    "                          vmin=global_min, vmax=global_max)\n",
    "            ax.set_title(title)\n",
    "            plt.colorbar(im, ax=ax)\n",
    "            \n",
    "        plt.tight_layout()\n",
    "        plt.show(block=True)\n",
    "        \n",
    "    max_time = max(len(vol) for vol in volume_seqs) - 1\n",
    "    max_slice = max(len(vol[0]) for vol in volume_seqs) - 1\n",
    "    \n",
    "    interact(\n",
    "        plot_volumes,\n",
    "        time_idx=IntSlider(min=0, max=max_time, step=1, value=0, description='Time:'),\n",
    "        slice_idx=IntSlider(min=0, max=max_slice, step=1, value=0, description='Slice:')\n",
    "    )\n"
   ]
  },
  {
   "cell_type": "code",
   "execution_count": 34,
   "id": "e1db07d4-c6be-40d6-b500-e289d6ab2cab",
   "metadata": {},
   "outputs": [],
   "source": [
    "outputs_unet = np.load(\"outputs_unet.npy\")\n",
    "targets_unet = np.load(\"targets_unet.npy\")"
   ]
  },
  {
   "cell_type": "code",
   "execution_count": 36,
   "id": "6ae5b165-2653-462b-86c0-e47936498b90",
   "metadata": {},
   "outputs": [
    {
     "name": "stdout",
     "output_type": "stream",
     "text": [
      "2\n"
     ]
    },
    {
     "data": {
      "application/vnd.jupyter.widget-view+json": {
       "model_id": "74261ae29aa24b8e906ba78b0b8ab117",
       "version_major": 2,
       "version_minor": 0
      },
      "text/plain": [
       "interactive(children=(IntSlider(value=0, description='Time:', max=17), IntSlider(value=0, description='Slice:'…"
      ]
     },
     "metadata": {},
     "output_type": "display_data"
    }
   ],
   "source": [
    "#outputs of the 3d-UNet+_temp_9_singleshot\n",
    "#the first 9 frames are the same the other 9 are output, target \n",
    "multi_vol_seq_interactive(np.clip(np.array([outputs_unet, targets_unet]), 0, 0.7))"
   ]
  },
  {
   "cell_type": "code",
   "execution_count": null,
   "id": "62d3914e",
   "metadata": {},
   "outputs": [],
   "source": [
    "\n"
   ]
  },
  {
   "cell_type": "code",
   "execution_count": 37,
   "id": "79c9d064-949a-4f8e-80b4-28b0f2612d55",
   "metadata": {},
   "outputs": [],
   "source": [
    "outputs_simpvp = np.load(\"outputs_simpvp.npy\")\n",
    "targets_simpvp = np.load(\"targets_simpvp.npy\")"
   ]
  },
  {
   "cell_type": "code",
   "execution_count": 38,
   "id": "92f278b4-5f62-445e-a4f3-844b00825a9a",
   "metadata": {},
   "outputs": [
    {
     "name": "stdout",
     "output_type": "stream",
     "text": [
      "2\n"
     ]
    },
    {
     "data": {
      "application/vnd.jupyter.widget-view+json": {
       "model_id": "a7e0afd2368a4f72be6eac6afa5bb792",
       "version_major": 2,
       "version_minor": 0
      },
      "text/plain": [
       "interactive(children=(IntSlider(value=0, description='Time:', max=17), IntSlider(value=0, description='Slice:'…"
      ]
     },
     "metadata": {},
     "output_type": "display_data"
    }
   ],
   "source": [
    "#outputs of the 3d-simpvp_temp_9_singleshot\n",
    "#the first 9 frames are the same the other 9 are output, target \n",
    "multi_vol_seq_interactive(np.clip(np.array([outputs_simpvp, targets_simpvp]), 0, 0.7))"
   ]
  },
  {
   "cell_type": "code",
   "execution_count": null,
   "id": "91da67e8",
   "metadata": {},
   "outputs": [],
   "source": []
  }
 ],
 "metadata": {
  "kernelspec": {
   "display_name": "ct",
   "language": "python",
   "name": "python3"
  },
  "language_info": {
   "codemirror_mode": {
    "name": "ipython",
    "version": 3
   },
   "file_extension": ".py",
   "mimetype": "text/x-python",
   "name": "python",
   "nbconvert_exporter": "python",
   "pygments_lexer": "ipython3",
   "version": "3.11.9"
  }
 },
 "nbformat": 4,
 "nbformat_minor": 5
}
