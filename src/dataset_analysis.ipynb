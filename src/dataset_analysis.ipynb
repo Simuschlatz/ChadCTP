{
 "cells": [
  {
   "cell_type": "markdown",
   "metadata": {},
   "source": [
    "### The 712 Slice Scans' metadata are corruted"
   ]
  },
  {
   "cell_type": "code",
   "execution_count": 26,
   "metadata": {},
   "outputs": [
    {
     "name": "stdout",
     "output_type": "stream",
     "text": [
      "Dicom files loaded, count: 712\n",
      "Processing folder 0\n",
      "PERFUSIONE\n"
     ]
    }
   ],
   "source": [
    "import os\n",
    "from preprocessing import load_folder_paths, load_dcm_datasets\n",
    "\n",
    "folder_paths = load_folder_paths(scan_size='large')\n",
    "dts = []\n",
    "for f_i, folder in enumerate(folder_paths[:1]):\n",
    "    datasets = load_dcm_datasets(folder)\n",
    "    print(f\"Processing folder {f_i}\")\n",
    "    # Read dicom files in folder\n",
    "    ts = []\n",
    "    print(datasets[0].SeriesDescription)\n",
    "    for i in range(0, len(datasets) - 8, 8):\n",
    "        # print(f\"Dataset {i} time: {datasets[i].AcquisitionTime}\")\n",
    "        # Convert hhmmss.sss format into seconds\n",
    "        hms, ms = datasets[i].AcquisitionTime.split('.')\n",
    "        h, m, s = hms[:2], hms[2:4], hms[4:]\n",
    "        t = int(h) * 3600 + int(m) * 60 + float(s) + float(ms[:3]) / 1000\n",
    "        # print(f\"t: {t}\")\n",
    "        ts.append(t)\n",
    "    for i in range(1, len(ts)):\n",
    "        dts.append(round(ts[i] - ts[i-1], 2))"
   ]
  },
  {
   "cell_type": "code",
   "execution_count": 15,
   "metadata": {},
   "outputs": [
    {
     "name": "stdout",
     "output_type": "stream",
     "text": [
      "0.0 0.0\n"
     ]
    }
   ],
   "source": [
    "print(max(dts), min(dts))\n"
   ]
  },
  {
   "cell_type": "code",
   "execution_count": 16,
   "metadata": {},
   "outputs": [
    {
     "data": {
      "image/png": "[encoded data removed]",
      "text/plain": [
       "<Figure size 640x480 with 1 Axes>"
      ]
     },
     "metadata": {},
     "output_type": "display_data"
    }
   ],
   "source": [
    "import matplotlib.pyplot as plt\n",
    "plt.hist(dts)\n",
    "plt.show()"
   ]
  },
  {
   "cell_type": "markdown",
   "metadata": {},
   "source": [
    "### Let's do the same with the small scans"
   ]
  },
  {
   "cell_type": "code",
   "execution_count": 27,
   "metadata": {},
   "outputs": [
    {
     "name": "stdout",
     "output_type": "stream",
     "text": [
      "Dicom files loaded, count: 288\n",
      "Processing folder 0\n",
      "PERFUSIONE 8 CM\n",
      "Dicom files loaded, count: 288\n",
      "Processing folder 1\n",
      "PERFUSIONE 8 CM\n",
      "Dicom files loaded, count: 288\n",
      "Processing folder 2\n",
      "PERFUSIONE 8 CM\n",
      "Dicom files loaded, count: 288\n",
      "Processing folder 3\n",
      "PERFUSIONE 8 CM\n",
      "Dicom files loaded, count: 288\n",
      "Processing folder 4\n",
      "PERFUSIONE 8 CM\n",
      "Dicom files loaded, count: 288\n",
      "Processing folder 5\n",
      "PERFUSIONE 8 CM\n",
      "Dicom files loaded, count: 288\n",
      "Processing folder 6\n",
      "PERFUSIONE 8 CM\n",
      "Dicom files loaded, count: 288\n",
      "Processing folder 7\n",
      "PERFUSIONE 8 CM\n",
      "Dicom files loaded, count: 288\n",
      "Processing folder 8\n",
      "PERFUSIONE 8 CM\n",
      "Dicom files loaded, count: 288\n",
      "Processing folder 9\n",
      "PERFUSIONE 8 CM\n"
     ]
    }
   ],
   "source": [
    "import os\n",
    "from preprocessing import load_folder_paths, load_dcm_datasets\n",
    "\n",
    "folder_paths = load_folder_paths(scan_size='small')\n",
    "dts = []\n",
    "for f_i, folder in enumerate(folder_paths[:10]):\n",
    "    datasets = load_dcm_datasets(folder)\n",
    "    print(f\"Processing folder {f_i}\")\n",
    "    print(datasets[0].SeriesDescription)\n",
    "    # Read dicom files in folder\n",
    "    ts = []\n",
    "    for i in range(0, len(datasets) - 16, 16):\n",
    "        # print(f\"Dataset {i} time: {datasets[i].AcquisitionTime}\")\n",
    "        # Convert hhmmss.sss format into seconds\n",
    "        hms, ms = datasets[i].AcquisitionTime.split('.')\n",
    "        h, m, s = hms[:2], hms[2:4], hms[4:]\n",
    "        t = int(h) * 3600 + int(m) * 60 + float(s) + float(ms[:3]) / 1000\n",
    "        # print(f\"t: {t}\")\n",
    "        ts.append(t)\n",
    "    for i in range(1, len(ts)):\n",
    "        dts.append(round(ts[i] - ts[i-1], 2))"
   ]
  },
  {
   "cell_type": "code",
   "execution_count": 28,
   "metadata": {},
   "outputs": [
    {
     "name": "stdout",
     "output_type": "stream",
     "text": [
      "2.81 2.81\n"
     ]
    },
    {
     "data": {
      "image/png": "[encoded data removed]",
      "text/plain": [
       "<Figure size 640x480 with 1 Axes>"
      ]
     },
     "metadata": {},
     "output_type": "display_data"
    }
   ],
   "source": [
    "import matplotlib.pyplot as plt\n",
    "print(max(dts), min(dts))\n",
    "plt.hist(dts)\n",
    "plt.show()"
   ]
  },
  {
   "cell_type": "code",
   "execution_count": 32,
   "metadata": {},
   "outputs": [
    {
     "name": "stdout",
     "output_type": "stream",
     "text": [
      "Temporal resolution: 0.35587188612099646 scans per second\n"
     ]
    }
   ],
   "source": [
    "print(f\"Temporal resolution: {1/2.81} scans per second\")"
   ]
  },
  {
   "cell_type": "markdown",
   "metadata": {},
   "source": [
    "These work!\n",
    "### Let's look at acquisition params like\n",
    "- Tube Current and Voltage\n",
    "- Patient Position"
   ]
  },
  {
   "cell_type": "code",
   "execution_count": 36,
   "metadata": {},
   "outputs": [
    {
     "name": "stdout",
     "output_type": "stream",
     "text": [
      "Dicom files loaded, count: 288\n",
      "Processing folder 0\n",
      "Dicom files loaded, count: 288\n",
      "Processing folder 1\n",
      "Dicom files loaded, count: 288\n",
      "Processing folder 2\n",
      "Dicom files loaded, count: 288\n",
      "Processing folder 3\n",
      "Dicom files loaded, count: 288\n",
      "Processing folder 4\n",
      "Dicom files loaded, count: 288\n",
      "Processing folder 5\n",
      "Dicom files loaded, count: 288\n",
      "Processing folder 6\n",
      "Dicom files loaded, count: 288\n",
      "Processing folder 7\n",
      "Dicom files loaded, count: 288\n",
      "Processing folder 8\n",
      "Dicom files loaded, count: 288\n",
      "Processing folder 9\n",
      "['500', '500', '500', '500', '500', '500', '500', '500', '500', '500', '500', '500', '500', '500', '500', '500', '500'] ['500', '500', '500', '500', '500', '500', '500', '500', '500', '500', '500', '500', '500', '500', '500', '500', '500']\n",
      "['80.0', '80.0', '80.0', '80.0', '80.0', '80.0', '80.0', '80.0', '80.0', '80.0', '80.0', '80.0', '80.0', '80.0', '80.0', '80.0', '80.0'] ['80.0', '80.0', '80.0', '80.0', '80.0', '80.0', '80.0', '80.0', '80.0', '80.0', '80.0', '80.0', '80.0', '80.0', '80.0', '80.0', '80.0']\n"
     ]
    }
   ],
   "source": [
    "import os\n",
    "from preprocessing import load_folder_paths, load_dcm_datasets\n",
    "\n",
    "folder_paths = load_folder_paths(scan_size='small')\n",
    "tube_currents = []\n",
    "tube_voltages = []\n",
    "for f_i, folder in enumerate(folder_paths[:10]):\n",
    "    datasets = load_dcm_datasets(folder)\n",
    "    print(f\"Processing folder {f_i}\")\n",
    "    tube_currents.append([])\n",
    "    tube_voltages.append([])\n",
    "    for i in range(0, len(datasets) - 16, 16):\n",
    "        tube_currents[f_i].append(datasets[i].XRayTubeCurrent)\n",
    "        tube_voltages[f_i].append(datasets[i].KVP)\n",
    "\n",
    "print(max(tube_currents), min(tube_currents))\n",
    "print(max(tube_voltages), min(tube_voltages))"
   ]
  },
  {
   "cell_type": "code",
   "execution_count": 25,
   "metadata": {},
   "outputs": [
    {
     "data": {
      "text/plain": [
       "Dataset.file_meta -------------------------------\n",
       "(0002, 0000) File Meta Information Group Length  UL: 232\n",
       "(0002, 0001) File Meta Information Version       OB: b'\\x00\\x01'\n",
       "(0002, 0002) Media Storage SOP Class UID         UI: CT Image Storage\n",
       "(0002, 0003) Media Storage SOP Instance UID      UI: 1.3.6.1.4.1.9590.100.1.2.267612077112667338922329381331105328063\n",
       "(0002, 0010) Transfer Syntax UID                 UI: JPEG Lossless, Non-Hierarchical, First-Order Prediction (Process 14 [Selection Value 1])\n",
       "(0002, 0012) Implementation Class UID            UI: 1.3.6.1.4.1.9590.100.1.3.100.9.4\n",
       "(0002, 0013) Implementation Version Name         SH: 'MATLAB IPT 9.4'\n",
       "(0002, 0016) Source Application Entity Title     AE: 'CDSDicomSCP'\n",
       "-------------------------------------------------\n",
       "(0008, 0005) Specific Character Set              CS: 'ISO_IR 100'\n",
       "(0008, 0008) Image Type                          CS: ['ORIGINAL', 'PRIMARY', 'AXIAL']\n",
       "(0008, 0012) Instance Creation Date              DA: '20190217'\n",
       "(0008, 0013) Instance Creation Time              TM: '190954'\n",
       "(0008, 0016) SOP Class UID                       UI: CT Image Storage\n",
       "(0008, 0018) SOP Instance UID                    UI: 1.3.6.1.4.1.9590.100.1.2.267612077112667338922329381331105328063\n",
       "(0008, 0020) Study Date                          DA: '20190217'\n",
       "(0008, 0021) Series Date                         DA: '20190217'\n",
       "(0008, 0022) Acquisition Date                    DA: '20190217'\n",
       "(0008, 0023) Content Date                        DA: '20190217'\n",
       "(0008, 0030) Study Time                          TM: '185618'\n",
       "(0008, 0031) Series Time                         TM: '190928'\n",
       "(0008, 0032) Acquisition Time                    TM: '190951.002459'\n",
       "(0008, 0033) Content Time                        TM: '190954'\n",
       "(0008, 0050) Accession Number                    SH: '5514037583/37'\n",
       "(0008, 0060) Modality                            CS: 'CT'\n",
       "(0008, 0070) Manufacturer                        LO: 'GE MEDICAL SYSTEMS'\n",
       "(0008, 0080) Institution Name                    LO: 'RADIOLOGIA II PRONTO SOCCORSO'\n",
       "(0008, 0090) Referring Physician's Name          PN: 'UNKNOWN^UNKNOWN'\n",
       "(0008, 1010) Station Name                        SH: 'ct64'\n",
       "(0008, 1030) Study Description                   LO: 'TC CRANIO 69-8703.1-01'\n",
       "(0008, 103e) Series Description                  LO: 'PERFUSIONE 8 CM'\n",
       "(0008, 1050) Performing Physician's Name         PN: ''\n",
       "(0008, 1060) Name of Physician(s) Reading Study  PN: ''\n",
       "(0008, 1070) Operators' Name                     PN: '02w'\n",
       "(0008, 1090) Manufacturer's Model Name           LO: 'LightSpeed VCT'\n",
       "(0009, 0010) Private Creator                     LO: 'GEMS_IDEN_01'\n",
       "(0009, 1001) [Full fidelity]                     LO: 'CT_LIGHTSPEED'\n",
       "(0009, 1002) [Suite id]                          SH: 'CT64'\n",
       "(0009, 1004) [Product id]                        SH: 'LightSpeed VCT'\n",
       "(0009, 1027) [Image actual date]                 SL: 1550430568\n",
       "(0009, 10e3) [Equipment UID]                     UI: ''\n",
       "(0010, 0010) Patient's Name                      PN: 'MOL-096'\n",
       "(0010, 0020) Patient ID                          LO: 'MOL-096'\n",
       "(0010, 0030) Patient's Birth Date                DA: '19741102'\n",
       "(0010, 0040) Patient's Sex                       CS: ''\n",
       "(0010, 1000) Other Patient IDs                   LO: ''\n",
       "(0010, 21b0) Additional Patient History          LT: ''\n",
       "(0018, 0010) Contrast/Bolus Agent                LO: 'Ultravist'\n",
       "(0018, 0022) Scan Options                        CS: 'AXIAL MODE'\n",
       "(0018, 0050) Slice Thickness                     DS: '5.0'\n",
       "(0018, 0060) KVP                                 DS: '80.0'\n",
       "(0018, 0090) Data Collection Diameter            DS: '320.0'\n",
       "(0018, 1000) Device Serial Number                LO: '*'\n",
       "(0018, 1020) Software Versions                   LO: 'vct_zeta.4'\n",
       "(0018, 1030) Protocol Name                       LO: '3.7 ENCEFALO+TSA PER ICTUS con DOPPIA FASE ARTERIOSA E PERF 8CM'\n",
       "(0018, 1040) Contrast/Bolus Route                LO: 'IV'\n",
       "(0018, 1100) Reconstruction Diameter             DS: '250.0'\n",
       "(0018, 1110) Distance Source to Detector         DS: '949.147'\n",
       "(0018, 1111) Distance Source to Patient          DS: '541.0'\n",
       "(0018, 1120) Gantry/Detector Tilt                DS: '0.0'\n",
       "(0018, 1130) Table Height                        DS: '151.0'\n",
       "(0018, 1140) Rotation Direction                  CS: 'CW'\n",
       "(0018, 1150) Exposure Time                       IS: '400'\n",
       "(0018, 1151) X-Ray Tube Current                  IS: '500'\n",
       "(0018, 1152) Exposure                            IS: '25'\n",
       "(0018, 1160) Filter Type                         SH: 'MEDIUM FILTER'\n",
       "(0018, 1170) Generator Power                     IS: '40000'\n",
       "(0018, 1190) Focal Spot(s)                       DS: '1.2'\n",
       "(0018, 1210) Convolution Kernel                  SH: 'STANDARD'\n",
       "(0018, 5100) Patient Position                    CS: 'HFS'\n",
       "(0019, 0010) Private Creator                     LO: 'GEMS_ACQU_01'\n",
       "(0019, 1002) [Detector Channel]                  SL: 912\n",
       "(0019, 1003) [Cell number at Theta]              DS: ['', 'x@']\n",
       "(0019, 1004) [Cell spacing]                      DS: '\\x8býe÷äað?'\n",
       "(0019, 100f) [Horiz. Frame of ref.]              DS: '\\x00\\x00\\x00\\x00\\x00\\x14\\x8b@'\n",
       "(0019, 1011) [Series contrast]                   SS: 1\n",
       "(0019, 1018) [First scan ras]                    LO: 'S'\n",
       "(0019, 101a) [Last scan ras]                     LO: 'S'\n",
       "(0019, 1023) [Table Speed [mm/rotation]]         DS: ''\n",
       "(0019, 1024) [Mid Scan Time [sec]]               DS: 'BÎûÿ\\x18Ô\\x86@'\n",
       "(0019, 1025) [Mid scan flag]                     SS: 1\n",
       "(0019, 1026) [Tube Azimuth [degree]]             SL: 351\n",
       "(0019, 1027) [Rotation Speed [msec]]             DS: '\\x9a\\x99\\x99\\x99\\x99\\x99Ù?'\n",
       "(0019, 102c) [Number of triggers]                SL: 1006\n",
       "(0019, 102e) [Angle of first view]               DS: ''\n",
       "(0019, 102f) [Trigger frequency]                 DS: '\\x00\\x00\\x00\\x00\\x008£@'\n",
       "(0019, 1039) [SFOV Type]                         SS: 2\n",
       "(0019, 1042) [Segment Number]                    SS: 0\n",
       "(0019, 1043) [Total Segments Required]           SS: 0\n",
       "(0019, 1047) [View compression factor]           SS: 1\n",
       "(0019, 1052) [Recon post proc. Flag]             SS: 1\n",
       "(0019, 106a) [Dependent on #views processed]     SS: 2\n",
       "(0020, 000d) Study Instance UID                  UI: 1.3.6.1.4.1.19291.2.1.1.1810965224611406036236021426780\n",
       "(0020, 000e) Series Instance UID                 UI: 1.3.6.1.4.1.19291.2.1.2.1810965224611406036236058726811\n",
       "(0020, 0010) Study ID                            SH: '14726'\n",
       "(0020, 0011) Series Number                       IS: '8'\n",
       "(0020, 0012) Acquisition Number                  IS: '1'\n",
       "(0020, 0013) Instance Number                     IS: '1'\n",
       "(0020, 0032) Image Position (Patient)            DS: [-125, -165.1, 219]\n",
       "(0020, 0037) Image Orientation (Patient)         DS: [1, 0, 0, 0, 1, 0]\n",
       "(0020, 0052) Frame of Reference UID              UI: 1.2.840.113619.2.437.3.313286796.676.1550211223.143.8665.1\n",
       "(0020, 1040) Position Reference Indicator        LO: 'SN'\n",
       "(0020, 1041) Slice Location                      DS: '219.0'\n",
       "(0021, 0010) Private Creator                     LO: 'GEMS_RELA_01'\n",
       "(0021, 1003) [Series from which Prescribed]      SS: 8\n",
       "(0021, 1035) [Series from which prescribed]      SS: 5\n",
       "(0021, 1036) [Image from which prescribed]       SS: 2\n",
       "(0021, 1091) [Biopsy position]                   SS: 0\n",
       "(0021, 1092) [Biopsy T location]                 FL: 0.0\n",
       "(0021, 1093) [Biopsy ref location]               FL: 0.0\n",
       "(0023, 0010) Private Creator                     LO: 'GEMS_STDY_01'\n",
       "(0023, 1070) [Start time(secs) in first axial]   FD: 1550429860.690232\n",
       "(0027, 0010) Private Creator                     LO: 'GEMS_IMAG_01'\n",
       "(0027, 1010) [Scout Type]                        SS: 0\n",
       "(0027, 101c) [Vma mamp]                          SL: 0\n",
       "(0027, 101e) [Vma mod]                           SL: 0\n",
       "(0027, 101f) [Vma clip]                          SL: 0\n",
       "(0027, 1020) [Smart scan ON/OFF flag]            SS: 0\n",
       "(0027, 1035) [Plane Type]                        SS: 2\n",
       "(0027, 1042) [Center R coord of plane image]     FL: 0.0\n",
       "(0027, 1043) [Center A coord of plane image]     FL: 40.099998474121094\n",
       "(0027, 1044) [Center S coord of plane image]     FL: 219.0\n",
       "(0027, 1045) [Normal R coord]                    FL: 0.0\n",
       "(0027, 1046) [Normal A coord]                    FL: -0.0\n",
       "(0027, 1047) [Normal S coord]                    FL: 1.0\n",
       "(0027, 1050) [Scan Start Location]               FL: 0.0\n",
       "(0027, 1051) [Scan End Location]                 FL: 0.0\n",
       "(0028, 0002) Samples per Pixel                   US: 1\n",
       "(0028, 0004) Photometric Interpretation          CS: 'MONOCHROME2'\n",
       "(0028, 0010) Rows                                US: 512\n",
       "(0028, 0011) Columns                             US: 512\n",
       "(0028, 0030) Pixel Spacing                       DS: [0.488281, 0.488281]\n",
       "(0028, 0100) Bits Allocated                      US: 16\n",
       "(0028, 0101) Bits Stored                         US: 16\n",
       "(0028, 0102) High Bit                            US: 15\n",
       "(0028, 0103) Pixel Representation                US: 1\n",
       "(0028, 0106) Smallest Image Pixel Value          SS: -2000\n",
       "(0028, 0107) Largest Image Pixel Value           SS: 3444\n",
       "(0028, 0120) Pixel Padding Value                 SS: -2000\n",
       "(0028, 1050) Window Center                       DS: '40.0'\n",
       "(0028, 1051) Window Width                        DS: '400.0'\n",
       "(0028, 1052) Rescale Intercept                   DS: '-1024.0'\n",
       "(0028, 1053) Rescale Slope                       DS: '1.0'\n",
       "(0040, 0244) Performed Procedure Step Start Date DA: '20190217'\n",
       "(0040, 0245) Performed Procedure Step Start Time TM: '185618'\n",
       "(0040, 0253) Performed Procedure Step ID         SH: 'PPS ID  14726'\n",
       "(0040, 0254) Performed Procedure Step Descriptio LO: 'TC CRANIO 69-8703.1-01'\n",
       "(0043, 0010) Private Creator                     LO: 'GEMS_PARM_01'\n",
       "(0043, 1010) [Window value]                      US: 400\n",
       "(0043, 1012) [X-ray chain]                       SS: [99, 99, 99]\n",
       "(0043, 1016) [Number of overranges]              SS: -1\n",
       "(0043, 101e) [Delta Start Time [msec]]           DS: ''\n",
       "(0043, 101f) [Max overranges in a view]          SL: 0\n",
       "(0043, 1021) [Corrected after glow terms]        SS: 0\n",
       "(0043, 1025) [Reference channels]                SS: [0, 0, 0, 0, 0, 0]\n",
       "(0043, 1026) [No views ref chans blocked]        US: [0, 0, 0, 0]\n",
       "(0043, 1027) [Scan Pitch Ratio]                  SH: ''\n",
       "(0043, 1028) [Unique image iden]                 OB: b'00'\n",
       "(0043, 102b) [Private Scan Options]              SS: [2, 0, 1, 0]\n",
       "(0043, 1031) [Recon Center Coordinates]          DS: '\\x00\\x00\\x00\\x00\\x00\\x00\\x00\\x00ÍÌÌÌÌ\\x0cD@'\n",
       "(0043, 1040) [Trigger on position]               FL: 137.72459411621094\n",
       "(0043, 1041) [Degree of rotation]                FL: 368.04876708984375\n",
       "(0043, 1042) [DAS trigger source]                SL: 0\n",
       "(0043, 1043) [DAS fpa gain]                      SL: 0\n",
       "(0043, 1044) [DAS output source]                 SL: 0\n",
       "(0043, 1045) [DAS ad input]                      SL: 0\n",
       "(0043, 1046) [DAS cal mode]                      SL: 0\n",
       "(0043, 104d) [Start scan to X-ray on delay]      FL: 0.0\n",
       "(0043, 104e) [Duration of X-ray on]              FL: 0.4000000059604645\n",
       "(0043, 1064) [Image Filter]                      CS: ''\n",
       "(0045, 0010) Private Creator                     LO: 'GEMS_HELIOS_01'\n",
       "(0045, 1001) [Number of Macro Rows in Detector]  SS: 64\n",
       "(0045, 1002) [Macro width at ISO Center]         FL: 0.625\n",
       "(0045, 1003) [DAS type]                          SS: 18\n",
       "(0045, 1004) [DAS gain]                          SS: 4\n",
       "(0045, 1006) [Table Direction]                   CS: 'OUT OF GANTRY'\n",
       "(0045, 1007) [Z smoothing Factor]                FL: 0.0\n",
       "(0045, 1008) [View Weighting Mode]               SS: 0\n",
       "(0045, 1009) [Sigma Row number]                  SS: 17\n",
       "(0045, 100a) [Minimum DAS value]                 FL: 0.0\n",
       "(0045, 100b) [Maximum Offset Value]              FL: 0.0\n",
       "(0045, 100c) [Number of Views shifted]           SS: 0\n",
       "(0045, 100d) [Z tracking Flag]                   SS: 0\n",
       "(0045, 100e) [Mean Z error]                      FL: 0.0\n",
       "(0045, 100f) [Z tracking Error]                  FL: 0.0\n",
       "(0045, 1010) [Start View 2A]                     SS: 0\n",
       "(0045, 1011) [Number of Views 2A]                SS: 0\n",
       "(0045, 1012) [Start View 1A]                     SS: 0\n",
       "(0045, 1013) [Sigma Mode]                        SS: 10\n",
       "(0045, 1014) [Number of Views 1A]                SS: 0\n",
       "(0045, 1015) [Start View 2B]                     SS: 0\n",
       "(0045, 1016) [Number Views 2B]                   SS: 0\n",
       "(0045, 1017) [Start View 1B]                     SS: 0\n",
       "(0045, 1018) [Number of Views 1B]                SS: 0\n",
       "(0045, 1021) [Iterbone Flag]                     SS: 1\n",
       "(0045, 1022) [Perisstaltic Flag]                 SS: 0\n",
       "(0045, 1032) [TemporalResolution]                FL: 0.4000000059604645\n",
       "(0045, 103b) [NoiseReductionImageFilterDesc]     LO: ''\n",
       "(0053, 0010) Private Creator                     LO: 'GEHC_CT_ADVAPP_001'\n",
       "(0053, 1020) [ShuttleFlag]                       IS: ''\n",
       "(0053, 1040) [IterativeReconAnnotation]          SH: 'SS20'\n",
       "(0053, 1041) [IterativeReconMode]                SH: 'Slice'\n",
       "(0053, 1042) [IterativeReconConfiguration]       LO: 'SS20:Slice'\n",
       "(0053, 1043) [IterativeReconLevel]               SH: '20'\n",
       "(0053, 1060) [reconFlipRotateAnno]               SH: ''\n",
       "(0053, 1061) [highResolutionFlag]                SH: '0'\n",
       "(0053, 1062) [RespiratoryFlag]                   SH: '0'\n",
       "(0053, 1064) Private tag data                    VR.UN: b'\\x00\\x00\\x00\\x00\\x00\\x00\\x00\\x00'\n",
       "(0053, 1065) Private tag data                    VR.UN: b'\\x00\\x00\\x00\\x00\\x00\\x00\\x00\\x00'\n",
       "(0053, 1066) Private tag data                    VR.UN: b'80kV'\n",
       "(0053, 1067) Private tag data                    VR.UN: b'\\x00\\x00\\x00\\x00\\x00\\x00\\x00\\x00'\n",
       "(0053, 1068) Private tag data                    VR.UN: b'\\x00\\x00\\x00\\x00\\x00\\x00\\x00\\x00'\n",
       "(0053, 106a) Private tag data                    VR.UN: b'\\x00\\x00\\x00\\x00\\x00\\x00\\x00\\x00'\n",
       "(0053, 106b) Private tag data                    VR.UN: b'\\x00\\x00\\x00\\x00\\x00\\x00\\x00\\x00'\n",
       "(0053, 106f) Private tag data                    VR.UN: b'\\x00\\x00\\x00\\x00\\x00\\x00\\x00\\x00'\n",
       "(0053, 109d) Private tag data                    VR.UN: None\n",
       "(7fe0, 0010) Pixel Data                          OB: Array of 185672 elements"
      ]
     },
     "execution_count": 25,
     "metadata": {},
     "output_type": "execute_result"
    }
   ],
   "source": [
    "datasets[0]"
   ]
  },
  {
   "cell_type": "code",
   "execution_count": 13,
   "metadata": {},
   "outputs": [
    {
     "name": "stdout",
     "output_type": "stream",
     "text": [
      "/Users/simonma/Documents/ComputerScience/GitHub/PCTVolumePred/src\n",
      "142\n",
      "115\n"
     ]
    }
   ],
   "source": [
    "%cd ..\n",
    "from preprocessing import load_folder_paths, load_dcm_datasets\n",
    "print(len(load_folder_paths('small')))\n",
    "print(len(load_folder_paths('large')))"
   ]
  },
  {
   "cell_type": "code",
   "execution_count": 20,
   "metadata": {},
   "outputs": [
    {
     "name": "stdout",
     "output_type": "stream",
     "text": [
      "{'/Users/simonma/Desktop/UniToBrain/MOL-210'}\n"
     ]
    },
    {
     "data": {
      "text/plain": [
       "258"
      ]
     },
     "execution_count": 20,
     "metadata": {},
     "output_type": "execute_result"
    }
   ],
   "source": [
    "import os\n",
    "dataset_path = os.path.expanduser('~/Desktop/UniToBrain')\n",
    "l = []\n",
    "for folder in os.listdir(dataset_path):\n",
    "    if len(folder) == 7:\n",
    "        l.append(os.path.join(dataset_path, folder))\n",
    "print(set(l) - set(load_folder_paths('small')) - set(load_folder_paths('large')))\n",
    "len(l)"
   ]
  },
  {
   "cell_type": "code",
   "execution_count": 22,
   "metadata": {},
   "outputs": [
    {
     "name": "stdout",
     "output_type": "stream",
     "text": [
      "Dicom files loaded, count: 356\n",
      "10 [0.488281, 0.488281]\n"
     ]
    },
    {
     "name": "stderr",
     "output_type": "stream",
     "text": [
      "ic| label_count: array([45865,    42,  3243,     2])\n"
     ]
    },
    {
     "name": "stdout",
     "output_type": "stream",
     "text": [
      "Info: Downsampling detected (4x), adjusting morphology_shape_2d from (1, 2) to (1, 2)\n",
      "Info: Downsampling detected (4x), adjusting remove_small_objects_size from 500 to 31\n",
      "get_3d_mask took 0.13392901420593262 seconds\n"
     ]
    }
   ],
   "source": [
    "from preprocessing import get_volume\n",
    "d = get_volume('/Users/simonma/Desktop/UniToBrain/MOL-210',\n",
    "               windowing=False,\n",
    "               filter=False,\n",
    "               correct_motion=False,\n",
    "               reference_index=0,\n",
    "               spatial_downsampling_factor=4,\n",
    "               temporal_downsampling_factor=1,\n",
    "               verbose=False)\n",
    "\n"
   ]
  },
  {
   "cell_type": "code",
   "execution_count": 23,
   "metadata": {},
   "outputs": [
    {
     "data": {
      "text/plain": [
       "(118, 3, 128, 128)"
      ]
     },
     "execution_count": 23,
     "metadata": {},
     "output_type": "execute_result"
    }
   ],
   "source": [
    "d.shape"
   ]
  },
  {
   "cell_type": "code",
   "execution_count": null,
   "metadata": {},
   "outputs": [],
   "source": []
  }
 ],
 "metadata": {
  "kernelspec": {
   "display_name": "ct",
   "language": "python",
   "name": "python3"
  },
  "language_info": {
   "codemirror_mode": {
    "name": "ipython",
    "version": 3
   },
   "file_extension": ".py",
   "mimetype": "text/x-python",
   "name": "python",
   "nbconvert_exporter": "python",
   "pygments_lexer": "ipython3",
   "version": "3.11.9"
  }
 },
 "nbformat": 4,
 "nbformat_minor": 2
}
